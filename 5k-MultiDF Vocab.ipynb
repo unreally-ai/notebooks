{
 "cells": [
  {
   "cell_type": "markdown",
   "id": "fa9592b6",
   "metadata": {},
   "source": [
    "# 5k-MultiDF Vocabular\n",
    "This notebook aims to create a function which takes as input multiple dataframes and extrathe top 5k words out of them. The result should be a production-ready function.\n",
    "Here we apply methods from the previous \"Top 5K BoW-TF\" notebook to handle multiple dataframes"
   ]
  },
  {
   "cell_type": "code",
   "execution_count": 1,
   "id": "53f3bd32",
   "metadata": {},
   "outputs": [],
   "source": [
    "import numpy as np\n",
    "import pandas as pd\n",
    "import re\n",
    "from sklearn.feature_extraction.text import CountVectorizer, TfidfVectorizer\n",
    "from collections import Counter\n",
    "from nltk.corpus import stopwords"
   ]
  },
  {
   "cell_type": "code",
   "execution_count": 9,
   "id": "dfdeaba3",
   "metadata": {},
   "outputs": [
    {
     "data": {
      "text/html": [
       "<div>\n",
       "<style scoped>\n",
       "    .dataframe tbody tr th:only-of-type {\n",
       "        vertical-align: middle;\n",
       "    }\n",
       "\n",
       "    .dataframe tbody tr th {\n",
       "        vertical-align: top;\n",
       "    }\n",
       "\n",
       "    .dataframe thead th {\n",
       "        text-align: right;\n",
       "    }\n",
       "</style>\n",
       "<table border=\"1\" class=\"dataframe\">\n",
       "  <thead>\n",
       "    <tr style=\"text-align: right;\">\n",
       "      <th></th>\n",
       "      <th>0</th>\n",
       "      <th>1</th>\n",
       "      <th>2</th>\n",
       "      <th>3</th>\n",
       "    </tr>\n",
       "  </thead>\n",
       "  <tbody>\n",
       "    <tr>\n",
       "      <th>0</th>\n",
       "      <td>ID</td>\n",
       "      <td>Target</td>\n",
       "      <td>Tweet</td>\n",
       "      <td>Stance</td>\n",
       "    </tr>\n",
       "    <tr>\n",
       "      <th>1</th>\n",
       "      <td>10001</td>\n",
       "      <td>Atheism</td>\n",
       "      <td>He who exalts himself shall      be humbled; a...</td>\n",
       "      <td>AGAINST</td>\n",
       "    </tr>\n",
       "    <tr>\n",
       "      <th>2</th>\n",
       "      <td>10002</td>\n",
       "      <td>Atheism</td>\n",
       "      <td>RT @prayerbullets: I remove Nehushtan -previou...</td>\n",
       "      <td>AGAINST</td>\n",
       "    </tr>\n",
       "    <tr>\n",
       "      <th>3</th>\n",
       "      <td>10003</td>\n",
       "      <td>Atheism</td>\n",
       "      <td>@Brainman365 @heidtjj @BenjaminLives I have so...</td>\n",
       "      <td>AGAINST</td>\n",
       "    </tr>\n",
       "    <tr>\n",
       "      <th>4</th>\n",
       "      <td>10004</td>\n",
       "      <td>Atheism</td>\n",
       "      <td>#God is utterly powerless without Human interv...</td>\n",
       "      <td>AGAINST</td>\n",
       "    </tr>\n",
       "  </tbody>\n",
       "</table>\n",
       "</div>"
      ],
      "text/plain": [
       "       0        1                                                  2        3\n",
       "0     ID   Target                                              Tweet   Stance\n",
       "1  10001  Atheism  He who exalts himself shall      be humbled; a...  AGAINST\n",
       "2  10002  Atheism  RT @prayerbullets: I remove Nehushtan -previou...  AGAINST\n",
       "3  10003  Atheism  @Brainman365 @heidtjj @BenjaminLives I have so...  AGAINST\n",
       "4  10004  Atheism  #God is utterly powerless without Human interv...  AGAINST"
      ]
     },
     "execution_count": 9,
     "metadata": {},
     "output_type": "execute_result"
    }
   ],
   "source": [
    "df1 = pd.read_csv('SemEval2016-Task6-subtaskA-testdata-gold.txt', sep=\"\\t\", header=None)\n",
    "df1.head()"
   ]
  },
  {
   "cell_type": "code",
   "execution_count": 10,
   "id": "0f490d4d",
   "metadata": {},
   "outputs": [
    {
     "data": {
      "text/html": [
       "<div>\n",
       "<style scoped>\n",
       "    .dataframe tbody tr th:only-of-type {\n",
       "        vertical-align: middle;\n",
       "    }\n",
       "\n",
       "    .dataframe tbody tr th {\n",
       "        vertical-align: top;\n",
       "    }\n",
       "\n",
       "    .dataframe thead th {\n",
       "        text-align: right;\n",
       "    }\n",
       "</style>\n",
       "<table border=\"1\" class=\"dataframe\">\n",
       "  <thead>\n",
       "    <tr style=\"text-align: right;\">\n",
       "      <th></th>\n",
       "      <th>0</th>\n",
       "      <th>1</th>\n",
       "      <th>2</th>\n",
       "      <th>3</th>\n",
       "    </tr>\n",
       "  </thead>\n",
       "  <tbody>\n",
       "    <tr>\n",
       "      <th>0</th>\n",
       "      <td>ID</td>\n",
       "      <td>Target</td>\n",
       "      <td>Tweet</td>\n",
       "      <td>Stance</td>\n",
       "    </tr>\n",
       "    <tr>\n",
       "      <th>1</th>\n",
       "      <td>20001</td>\n",
       "      <td>Donald Trump</td>\n",
       "      <td>@2014voteblue @ChrisJZullo blindly supporting ...</td>\n",
       "      <td>NONE</td>\n",
       "    </tr>\n",
       "    <tr>\n",
       "      <th>2</th>\n",
       "      <td>20002</td>\n",
       "      <td>Donald Trump</td>\n",
       "      <td>@ThePimpernelX @Cameron_Gray @CalebHowe  Total...</td>\n",
       "      <td>NONE</td>\n",
       "    </tr>\n",
       "    <tr>\n",
       "      <th>3</th>\n",
       "      <td>20003</td>\n",
       "      <td>Donald Trump</td>\n",
       "      <td>@JeffYoung @ThePatriot143 I fully support full...</td>\n",
       "      <td>NONE</td>\n",
       "    </tr>\n",
       "    <tr>\n",
       "      <th>4</th>\n",
       "      <td>20004</td>\n",
       "      <td>Donald Trump</td>\n",
       "      <td>@ABC Stupid is as stupid does! Showedhis true ...</td>\n",
       "      <td>AGAINST</td>\n",
       "    </tr>\n",
       "  </tbody>\n",
       "</table>\n",
       "</div>"
      ],
      "text/plain": [
       "       0             1                                                  2  \\\n",
       "0     ID        Target                                              Tweet   \n",
       "1  20001  Donald Trump  @2014voteblue @ChrisJZullo blindly supporting ...   \n",
       "2  20002  Donald Trump  @ThePimpernelX @Cameron_Gray @CalebHowe  Total...   \n",
       "3  20003  Donald Trump  @JeffYoung @ThePatriot143 I fully support full...   \n",
       "4  20004  Donald Trump  @ABC Stupid is as stupid does! Showedhis true ...   \n",
       "\n",
       "         3  \n",
       "0   Stance  \n",
       "1     NONE  \n",
       "2     NONE  \n",
       "3     NONE  \n",
       "4  AGAINST  "
      ]
     },
     "execution_count": 10,
     "metadata": {},
     "output_type": "execute_result"
    }
   ],
   "source": [
    "df2 = pd.read_csv('SemEval2016-Task6-subtaskB-testdata-gold.txt', sep=\"\\t\", header=None)\n",
    "df2.head()"
   ]
  },
  {
   "cell_type": "code",
   "execution_count": 56,
   "id": "c44e63f5",
   "metadata": {},
   "outputs": [],
   "source": [
    "custom_stopwords = [\"semst\", \"im\"]\n",
    "# takes in string & returns a cleaned string of all non-stop-words\n",
    "def preprocess(text):\n",
    "    sw = stopwords.words('english')\n",
    "    text = re.sub(r'[^\\w\\s]', '', text).lower()\n",
    "    s = \"\"\n",
    "    for word in text.split():\n",
    "        if word not in sw and word not in custom_stopwords:\n",
    "                s += (word + \" \")\n",
    "    return s"
   ]
  },
  {
   "cell_type": "code",
   "execution_count": 67,
   "id": "2c771026",
   "metadata": {},
   "outputs": [],
   "source": [
    "# Takes array of dataframes, returns df with top5k dictionary\n",
    "def multidf_vocab(df_arr):\n",
    "    # create array of cleaned strings\n",
    "    vocab = []\n",
    "    for df in df_arr:\n",
    "        for i in range(len(df)):\n",
    "            # This has the 2nd column hardcoded!! Change it for production\n",
    "            vocab.append(preprocess(df[2][i]))\n",
    "    vocab_df = pd.DataFrame(vocab)\n",
    "    # how do I use counter without turning the vocab array into a df first?\n",
    "    # count appearance of each word & create frequency dataframe\n",
    "    return vocab_df"
   ]
  },
  {
   "cell_type": "code",
   "execution_count": 68,
   "id": "616a67bd",
   "metadata": {},
   "outputs": [],
   "source": [
    "vocab = multidf_vocab([df1, df2])"
   ]
  },
  {
   "cell_type": "code",
   "execution_count": 69,
   "id": "fd2e6081",
   "metadata": {},
   "outputs": [
    {
     "data": {
      "text/html": [
       "<div>\n",
       "<style scoped>\n",
       "    .dataframe tbody tr th:only-of-type {\n",
       "        vertical-align: middle;\n",
       "    }\n",
       "\n",
       "    .dataframe tbody tr th {\n",
       "        vertical-align: top;\n",
       "    }\n",
       "\n",
       "    .dataframe thead th {\n",
       "        text-align: right;\n",
       "    }\n",
       "</style>\n",
       "<table border=\"1\" class=\"dataframe\">\n",
       "  <thead>\n",
       "    <tr style=\"text-align: right;\">\n",
       "      <th></th>\n",
       "      <th>0</th>\n",
       "    </tr>\n",
       "  </thead>\n",
       "  <tbody>\n",
       "    <tr>\n",
       "      <th>0</th>\n",
       "      <td>tweet</td>\n",
       "    </tr>\n",
       "    <tr>\n",
       "      <th>1</th>\n",
       "      <td>exalts shall humbled humbles shall exaltedmatt...</td>\n",
       "    </tr>\n",
       "    <tr>\n",
       "      <th>2</th>\n",
       "      <td>rt prayerbullets remove nehushtan previous mov...</td>\n",
       "    </tr>\n",
       "    <tr>\n",
       "      <th>3</th>\n",
       "      <td>brainman365 heidtjj benjaminlives sought truth...</td>\n",
       "    </tr>\n",
       "    <tr>\n",
       "      <th>4</th>\n",
       "      <td>god utterly powerless without human intervention</td>\n",
       "    </tr>\n",
       "  </tbody>\n",
       "</table>\n",
       "</div>"
      ],
      "text/plain": [
       "                                                   0\n",
       "0                                             tweet \n",
       "1  exalts shall humbled humbles shall exaltedmatt...\n",
       "2  rt prayerbullets remove nehushtan previous mov...\n",
       "3  brainman365 heidtjj benjaminlives sought truth...\n",
       "4  god utterly powerless without human intervention "
      ]
     },
     "execution_count": 69,
     "metadata": {},
     "output_type": "execute_result"
    }
   ],
   "source": [
    "vocab.head()"
   ]
  },
  {
   "cell_type": "code",
   "execution_count": 70,
   "id": "16049816",
   "metadata": {},
   "outputs": [],
   "source": [
    "counter = Counter(\" \".join(vocab[0]).split()).most_common(5000)"
   ]
  },
  {
   "cell_type": "code",
   "execution_count": 75,
   "id": "2c6e826f",
   "metadata": {},
   "outputs": [
    {
     "data": {
      "text/plain": [
       "[('realdonaldtrump', 192),\n",
       " ('trump', 146),\n",
       " ('like', 111),\n",
       " ('people', 105),\n",
       " ('dont', 105),\n",
       " ('get', 95),\n",
       " ('women', 95),\n",
       " ('god', 92),\n",
       " ('hillaryclinton', 84),\n",
       " ('one', 74)]"
      ]
     },
     "execution_count": 75,
     "metadata": {},
     "output_type": "execute_result"
    }
   ],
   "source": [
    "counter[:10]"
   ]
  },
  {
   "cell_type": "code",
   "execution_count": 72,
   "id": "121d417c",
   "metadata": {},
   "outputs": [],
   "source": [
    "counter_df = pd.DataFrame(counter)"
   ]
  },
  {
   "cell_type": "code",
   "execution_count": 73,
   "id": "f062689a",
   "metadata": {},
   "outputs": [
    {
     "data": {
      "text/html": [
       "<div>\n",
       "<style scoped>\n",
       "    .dataframe tbody tr th:only-of-type {\n",
       "        vertical-align: middle;\n",
       "    }\n",
       "\n",
       "    .dataframe tbody tr th {\n",
       "        vertical-align: top;\n",
       "    }\n",
       "\n",
       "    .dataframe thead th {\n",
       "        text-align: right;\n",
       "    }\n",
       "</style>\n",
       "<table border=\"1\" class=\"dataframe\">\n",
       "  <thead>\n",
       "    <tr style=\"text-align: right;\">\n",
       "      <th></th>\n",
       "      <th>0</th>\n",
       "      <th>1</th>\n",
       "    </tr>\n",
       "  </thead>\n",
       "  <tbody>\n",
       "    <tr>\n",
       "      <th>0</th>\n",
       "      <td>realdonaldtrump</td>\n",
       "      <td>192</td>\n",
       "    </tr>\n",
       "    <tr>\n",
       "      <th>1</th>\n",
       "      <td>trump</td>\n",
       "      <td>146</td>\n",
       "    </tr>\n",
       "    <tr>\n",
       "      <th>2</th>\n",
       "      <td>like</td>\n",
       "      <td>111</td>\n",
       "    </tr>\n",
       "    <tr>\n",
       "      <th>3</th>\n",
       "      <td>people</td>\n",
       "      <td>105</td>\n",
       "    </tr>\n",
       "    <tr>\n",
       "      <th>4</th>\n",
       "      <td>dont</td>\n",
       "      <td>105</td>\n",
       "    </tr>\n",
       "  </tbody>\n",
       "</table>\n",
       "</div>"
      ],
      "text/plain": [
       "                 0    1\n",
       "0  realdonaldtrump  192\n",
       "1            trump  146\n",
       "2             like  111\n",
       "3           people  105\n",
       "4             dont  105"
      ]
     },
     "execution_count": 73,
     "metadata": {},
     "output_type": "execute_result"
    }
   ],
   "source": [
    "counter_df.head()"
   ]
  },
  {
   "cell_type": "code",
   "execution_count": 76,
   "id": "6d20a56d",
   "metadata": {},
   "outputs": [],
   "source": [
    "# next, let's put the above steps in a function\n",
    "# takes in cleaned text df, return top 5k frequency df\n",
    "def tf5k(processed_df):\n",
    "    counter = Counter(\" \".join(processed_df[0]).split()).most_common(5000)\n",
    "    counter_df = pd.DataFrame(counter)\n",
    "    return counter_df"
   ]
  },
  {
   "cell_type": "code",
   "execution_count": 77,
   "id": "5a29885d",
   "metadata": {},
   "outputs": [
    {
     "data": {
      "text/html": [
       "<div>\n",
       "<style scoped>\n",
       "    .dataframe tbody tr th:only-of-type {\n",
       "        vertical-align: middle;\n",
       "    }\n",
       "\n",
       "    .dataframe tbody tr th {\n",
       "        vertical-align: top;\n",
       "    }\n",
       "\n",
       "    .dataframe thead th {\n",
       "        text-align: right;\n",
       "    }\n",
       "</style>\n",
       "<table border=\"1\" class=\"dataframe\">\n",
       "  <thead>\n",
       "    <tr style=\"text-align: right;\">\n",
       "      <th></th>\n",
       "      <th>0</th>\n",
       "      <th>1</th>\n",
       "    </tr>\n",
       "  </thead>\n",
       "  <tbody>\n",
       "    <tr>\n",
       "      <th>0</th>\n",
       "      <td>realdonaldtrump</td>\n",
       "      <td>192</td>\n",
       "    </tr>\n",
       "    <tr>\n",
       "      <th>1</th>\n",
       "      <td>trump</td>\n",
       "      <td>146</td>\n",
       "    </tr>\n",
       "    <tr>\n",
       "      <th>2</th>\n",
       "      <td>like</td>\n",
       "      <td>111</td>\n",
       "    </tr>\n",
       "    <tr>\n",
       "      <th>3</th>\n",
       "      <td>people</td>\n",
       "      <td>105</td>\n",
       "    </tr>\n",
       "    <tr>\n",
       "      <th>4</th>\n",
       "      <td>dont</td>\n",
       "      <td>105</td>\n",
       "    </tr>\n",
       "    <tr>\n",
       "      <th>...</th>\n",
       "      <td>...</td>\n",
       "      <td>...</td>\n",
       "    </tr>\n",
       "    <tr>\n",
       "      <th>4995</th>\n",
       "      <td>stolen</td>\n",
       "      <td>1</td>\n",
       "    </tr>\n",
       "    <tr>\n",
       "      <th>4996</th>\n",
       "      <td>checked</td>\n",
       "      <td>1</td>\n",
       "    </tr>\n",
       "    <tr>\n",
       "      <th>4997</th>\n",
       "      <td>flew</td>\n",
       "      <td>1</td>\n",
       "    </tr>\n",
       "    <tr>\n",
       "      <th>4998</th>\n",
       "      <td>pole</td>\n",
       "      <td>1</td>\n",
       "    </tr>\n",
       "    <tr>\n",
       "      <th>4999</th>\n",
       "      <td>pulled</td>\n",
       "      <td>1</td>\n",
       "    </tr>\n",
       "  </tbody>\n",
       "</table>\n",
       "<p>5000 rows × 2 columns</p>\n",
       "</div>"
      ],
      "text/plain": [
       "                    0    1\n",
       "0     realdonaldtrump  192\n",
       "1               trump  146\n",
       "2                like  111\n",
       "3              people  105\n",
       "4                dont  105\n",
       "...               ...  ...\n",
       "4995           stolen    1\n",
       "4996          checked    1\n",
       "4997             flew    1\n",
       "4998             pole    1\n",
       "4999           pulled    1\n",
       "\n",
       "[5000 rows x 2 columns]"
      ]
     },
     "execution_count": 77,
     "metadata": {},
     "output_type": "execute_result"
    }
   ],
   "source": [
    "tf5k(vocab)"
   ]
  },
  {
   "cell_type": "markdown",
   "id": "c1e0c2bc",
   "metadata": {},
   "source": [
    "Great, the only thing left to do would be to save the df form permanent use, but we'll do that once we have more dataframes as input. \n",
    "Furthermore, we should think of ways to improve performance, especially in the multi_df_vocab function.\n",
    "If everything is working, I could write this as a python script which works like this:\n",
    "\n",
    "$ ./5kvocab <path/to/dataframes>\n",
    "\n",
    "and creates a .txt dataframe in the current directory"
   ]
  }
 ],
 "metadata": {
  "kernelspec": {
   "display_name": "Python 3 (ipykernel)",
   "language": "python",
   "name": "python3"
  },
  "language_info": {
   "codemirror_mode": {
    "name": "ipython",
    "version": 3
   },
   "file_extension": ".py",
   "mimetype": "text/x-python",
   "name": "python",
   "nbconvert_exporter": "python",
   "pygments_lexer": "ipython3",
   "version": "3.9.7"
  }
 },
 "nbformat": 4,
 "nbformat_minor": 5
}
