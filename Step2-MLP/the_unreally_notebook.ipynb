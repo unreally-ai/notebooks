{
 "cells": [
  {
   "cell_type": "markdown",
   "id": "1e6e45c1",
   "metadata": {},
   "source": [
    "# The Unreally Notebook\n",
    "### Step 1 - load data & helper functions\n"
   ]
  },
  {
   "cell_type": "code",
   "execution_count": 1,
   "id": "a32684fc",
   "metadata": {},
   "outputs": [],
   "source": [
    "import torch\n",
    "import torch.nn as nn\n",
    "from torch.utils.data import Dataset, DataLoader\n",
    "\n",
    "import matplotlib.pyplot as plt\n",
    "import seaborn as sns\n",
    "import pandas as pd\n",
    "import numpy as np\n",
    "\n",
    "from sklearn.model_selection import train_test_split\n",
    "from sklearn.feature_extraction.text import TfidfVectorizer,CountVectorizer\n",
    "from sklearn.metrics.pairwise import cosine_similarity\n",
    "from sklearn.metrics import confusion_matrix\n",
    "\n",
    "from collections import Counter\n",
    "import re\n",
    "\n",
    "from nltk.corpus import stopwords\n",
    "from nltk.stem import WordNetLemmatizer "
   ]
  },
  {
   "cell_type": "code",
   "execution_count": 2,
   "id": "386e74bf",
   "metadata": {},
   "outputs": [],
   "source": [
    "# path to dataset\n",
    "DATAPATH = 'balanced3360.csv'"
   ]
  },
  {
   "cell_type": "code",
   "execution_count": 61,
   "id": "a9e01cc6",
   "metadata": {},
   "outputs": [],
   "source": [
    "# takes in string & returns a cleaned string of all non-stop-words\n",
    "def preprocess(text, lemmatizer = WordNetLemmatizer()):\n",
    "    sw = set(stopwords.words('english'))\n",
    "    text = re.sub(r'[^\\w\\s]', '', text).lower()\n",
    "    s = \"\"\n",
    "    for word in text.split():\n",
    "        if word not in sw:\n",
    "                s += (lemmatizer.lemmatize(word) + \" \")\n",
    "    return s\n",
    "\n",
    "# creates a vocabulary without stop words\n",
    "def create_vocab(df):\n",
    "    print(\"creating vocabulary...\")\n",
    "    vocab = []\n",
    "    for i in range(len(df)-1):\n",
    "            vocab.append(preprocess((df.iloc[i])['head']))\n",
    "            vocab.append(preprocess((df.iloc[i])['body']))\n",
    "    vocab_df = pd.DataFrame(vocab)\n",
    "    \n",
    "    counter = Counter(\" \".join(vocab_df[0]).split()).most_common(5000)\n",
    "    counter_df = pd.DataFrame(counter)\n",
    "    \n",
    "    # safe as file for use in API\n",
    "    counter_df.to_csv('./kowalsky_vocab.csv')\n",
    "\n",
    "    return counter_df\n"
   ]
  },
  {
   "cell_type": "code",
   "execution_count": 4,
   "id": "d0bef21e",
   "metadata": {},
   "outputs": [],
   "source": [
    "# creates & fits bow & tfidf vectorizer to dataset\n",
    "# gets called in StanceDataset().__init__\n",
    "def fit_vectorizers(dataset):\n",
    "    print('fitting vectorizer...')\n",
    "\n",
    "    # create array of all texts in dataset\n",
    "    data = [(dataset.iloc[i])['head'] for i in range(len(dataset))] # headlines\n",
    "    data += ((dataset.iloc[i])['body'] for i in range(len(dataset))) # bodies\n",
    "\n",
    "    vocab = create_vocab(dataset)[0]\n",
    "    \n",
    "    # fit to dataset (creates dictionary)\n",
    "    bow = CountVectorizer(\n",
    "        vocabulary=vocab,\n",
    "        max_features=5000,\n",
    "    )\n",
    "    tfidf = TfidfVectorizer(\n",
    "        vocabulary=vocab,\n",
    "        max_features=5000,\n",
    "    )\n",
    "    bow.fit(data)\n",
    "    tfidf.fit(data)\n",
    "    print('vectorizer ready!')\n",
    "    return bow, tfidf"
   ]
  },
  {
   "cell_type": "code",
   "execution_count": null,
   "id": "cb88ddcc",
   "metadata": {},
   "outputs": [],
   "source": [
    "\"\"\"\n",
    "Code block to test if the fit vectorizer sub-pipeline works. It calls:\n",
    "fit_vectorizer()\n",
    "    create_vocab()\n",
    "        preprocess()\n",
    "\"\"\"\n",
    "# bow, tfidf = fit_vectorizers(df)\n",
    "# test_input = ['super cool test input string']\n",
    "\n",
    "# print(len(bow.vocabulary_))\n",
    "# bow.transform(test_input).shape"
   ]
  },
  {
   "cell_type": "markdown",
   "id": "1117a79b",
   "metadata": {},
   "source": [
    "### Step 2 - define pytorch custom dataset class"
   ]
  },
  {
   "cell_type": "code",
   "execution_count": 5,
   "id": "bc9e26e7",
   "metadata": {},
   "outputs": [],
   "source": [
    "# config\n",
    "device = torch.device('cuda' if torch.cuda.is_available else 'cpu')\n",
    "\n",
    "# custom dataset class\n",
    "class StanceDataset(Dataset):\n",
    "    def __init__(self, stance_df):\n",
    "        \"\"\"  Initalizes vectorizers, defines train/test splits\n",
    "        Args:\n",
    "            stance_df (pandas.DataFrame): the dataset\n",
    "        \"\"\"\n",
    "        self.data = stance_df\n",
    "        \n",
    "        self._bow, self._tfidf = fit_vectorizers(stance_df)\n",
    "        \n",
    "        # splits (train, test, validation) #TODO: this is not how train split works in dataloader\n",
    "        self.train, self.test = train_test_split(self.data, test_size=0.3, shuffle=True)\n",
    "        self.test, self.val = train_test_split(self.test, test_size=0.5, shuffle=False)\n",
    "        # split sizes\n",
    "        self.train_len = len(self.train)\n",
    "        self.test_len = len(self.test)\n",
    "        self.val_len = len(self.val)\n",
    "        \n",
    "        self._lookup_dict = {'train': (self.train, self.train_len),\n",
    "                             'val': (self.val, self.val_len),\n",
    "                             'test': (self.test, self.test_len)}\n",
    "        self.set_split('train')\n",
    "\n",
    "\n",
    "    def set_split(self, split='train'):\n",
    "        \"\"\" selects the splits in the dataset using a column in the dataframe \n",
    "        Args:\n",
    "            split (str): one of \"train\", \"val\", or \"test\"\n",
    "        \"\"\"\n",
    "        self._target_split = split\n",
    "        self._target_df, self._target_size = self._lookup_dict[split]\n",
    "\n",
    "    def __len__(self):\n",
    "        return self._target_size\n",
    "\n",
    "    def __getitem__(self, index):\n",
    "        \"\"\"\n",
    "        Args:\n",
    "            index (int): index to current data point\n",
    "        Returns:\n",
    "            dictionary holding tensor data point feature (x_data) and skalar tensor label (y_data)\n",
    "        \"\"\"\n",
    "        \n",
    "        # get text values from current row\n",
    "        row = (self._target_df.iloc[index])\n",
    "        claim = [row['head']]\n",
    "        body = [row['body']]\n",
    "\n",
    "        \n",
    "        # transform claim (headline/tweet) and target (body) to bowTF vector\n",
    "        bow_x = self._bow.transform(claim)\n",
    "        bow_y = self._bow.transform(body)\n",
    "\n",
    "        # transform claim (headline/tweet) and target (body) to TFIDF vector\n",
    "        tfidf_x = self._tfidf.transform(claim)\n",
    "        tfidf_y = self._tfidf.transform(body)\n",
    "        \n",
    "        # take cosine similary of TFIDF vectors\n",
    "        cosim = cosine_similarity(tfidf_x, tfidf_y)\n",
    "        \n",
    "        # concat x+cosim+y to input vector & convert to tensor\n",
    "        claim_df = pd.DataFrame(bow_x.toarray()) \n",
    "        body_df = pd.DataFrame(bow_y.toarray())\n",
    "        cosim_df = pd.DataFrame(cosim)\n",
    "        \n",
    "        x_data = (pd.concat([claim_df, cosim_df, body_df],axis=1)).to_numpy()\n",
    "        x_data = torch.from_numpy(x_data)\n",
    "\n",
    "        # get stance & convert to tensor\n",
    "        y_data = row['Stance']\n",
    "        stance_map = {\n",
    "            \"agree\": 0,\n",
    "            \"disagree\": 1,\n",
    "            \"discuss\": 2,\n",
    "            \"unrelated\": 3\n",
    "        }\n",
    "        y_data = torch.tensor(stance_map[y_data])\n",
    "        return {'x_data': x_data,\n",
    "                'y_target': y_data}"
   ]
  },
  {
   "cell_type": "code",
   "execution_count": 8,
   "id": "f20ec28e",
   "metadata": {},
   "outputs": [],
   "source": [
    "def load_dataset(excel=True):\n",
    "    \"\"\"\n",
    "    applies dataset class to dataset located at DATAPATH\n",
    "    args:\n",
    "        excel (bool): default true for .xlsx, else set false\n",
    "    \"\"\"\n",
    "    print('loading dataset...')\n",
    "    if excel == True:\n",
    "        df = pd.read_excel(\n",
    "            DATAPATH, \n",
    "            index_col=None, \n",
    "            header=0   \n",
    "        )\n",
    "    else:\n",
    "        df = pd.read_csv(\n",
    "            DATAPATH, \n",
    "            index_col=None, \n",
    "            header=0   \n",
    "        )\n",
    "    print('loaded!')\n",
    "    \n",
    "    dataset = StanceDataset(df)\n",
    "    return dataset"
   ]
  },
  {
   "cell_type": "code",
   "execution_count": 62,
   "id": "5dc61afe",
   "metadata": {},
   "outputs": [
    {
     "name": "stdout",
     "output_type": "stream",
     "text": [
      "loading dataset...\n",
      "loaded!\n",
      "fitting vectorizer...\n",
      "creating vocabulary...\n",
      "vectorizer ready!\n"
     ]
    }
   ],
   "source": [
    "data = load_dataset(excel=False)"
   ]
  },
  {
   "cell_type": "code",
   "execution_count": 10,
   "id": "d2ca07ac",
   "metadata": {},
   "outputs": [
    {
     "name": "stdout",
     "output_type": "stream",
     "text": [
      "should be the lenght of train split:  2352\n",
      "tensor([[0., 0., 0.,  ..., 0., 0., 0.]], dtype=torch.float64)\n",
      "tensor(3)\n"
     ]
    }
   ],
   "source": [
    "\"\"\"\n",
    "Test block for getitem. This is what the training loop will call\n",
    "\"\"\"\n",
    "\n",
    "data.set_split('train')\n",
    "print(\"should be the lenght of train split: \", len(data._target_df))\n",
    "\n",
    "d = data.__getitem__(1)\n",
    "print(d['x_data'])\n",
    "print(d['y_target'])"
   ]
  },
  {
   "cell_type": "code",
   "execution_count": 9,
   "id": "4f13f6df",
   "metadata": {},
   "outputs": [
    {
     "name": "stdout",
     "output_type": "stream",
     "text": [
      "{'disagree': 598, 'agree': 587, 'unrelated': 584, 'discuss': 583}\n"
     ]
    },
    {
     "data": {
      "text/plain": [
       "Text(0.5, 1.0, 'class distribution')"
      ]
     },
     "execution_count": 9,
     "metadata": {},
     "output_type": "execute_result"
    },
    {
     "data": {
      "image/png": "[encoded data removed]",
      "text/plain": [
       "<Figure size 432x288 with 1 Axes>"
      ]
     },
     "metadata": {
      "needs_background": "light"
     },
     "output_type": "display_data"
    }
   ],
   "source": [
    "# distribution of labels\n",
    "class_distribution = (pd.value_counts(data._target_df['Stance'])).to_dict()\n",
    "print(class_distribution)\n",
    "sns.barplot(data = pd.DataFrame.from_dict([class_distribution]).melt(), x = \"variable\", y=\"value\", hue=\"variable\").set_title('class distribution')"
   ]
  },
  {
   "cell_type": "markdown",
   "id": "12cdee13",
   "metadata": {},
   "source": [
    "### Step 3 - Define model & training"
   ]
  },
  {
   "cell_type": "code",
   "execution_count": 53,
   "id": "7f858166",
   "metadata": {},
   "outputs": [],
   "source": [
    "# hyperparameters\n",
    "in_dim = 10001\n",
    "hidden_dim = 100\n",
    "out_dim = 4\n",
    "epochs = 50\n",
    "batch = 32\n",
    "lr = 0.001"
   ]
  },
  {
   "cell_type": "code",
   "execution_count": 54,
   "id": "9e5b9b2c",
   "metadata": {},
   "outputs": [],
   "source": [
    "# re-usable way to create dataloader\n",
    "def make_batches(dataset, batch_size, shuffle=True, drop_last=True):\n",
    "    dataloader = DataLoader(dataset=dataset, batch_size=batch_size,\n",
    "                            shuffle=shuffle, drop_last=drop_last)\n",
    "    for data_dict in dataloader:\n",
    "        out_data_dict = {}\n",
    "        for name, tensor in data_dict.items():\n",
    "            out_data_dict[name] = data_dict[name].to(device)\n",
    "        yield out_data_dict\n"
   ]
  },
  {
   "cell_type": "code",
   "execution_count": 55,
   "id": "9e61f3e7",
   "metadata": {},
   "outputs": [],
   "source": [
    "# define neural net\n",
    "class NN(nn.Module):\n",
    "    def __init__(self, in_dim, hidden_dim, out_dim):\n",
    "        super(NN, self).__init__()\n",
    "\n",
    "        # define layers\n",
    "        self.l1 = nn.Linear(in_dim, hidden_dim)\n",
    "        self.relu = nn.ReLU()\n",
    "        self.l2 = nn.Linear(hidden_dim, out_dim)\n",
    "    \n",
    "    # applies layers with sample x\n",
    "    def forward(self, x):\n",
    "        out = self.l1(x).squeeze()\n",
    "        out = self.relu(out)\n",
    "        out = self.l2(out)\n",
    "        return out\n",
    "\n",
    "model = NN(in_dim, hidden_dim, out_dim).to(device)\n",
    "\n",
    "criterion = nn.CrossEntropyLoss() # this also applies softmax for us\n",
    "optimizer = torch.optim.Adam(model.parameters(), lr=lr)"
   ]
  },
  {
   "cell_type": "code",
   "execution_count": 30,
   "id": "39635847",
   "metadata": {},
   "outputs": [
    {
     "data": {
      "text/plain": [
       "'\\nTest block to check if enumerate works correctly \\n(data should return 2 values: input, label)\\n'"
      ]
     },
     "execution_count": 30,
     "metadata": {},
     "output_type": "execute_result"
    }
   ],
   "source": [
    "\"\"\"\n",
    "Test block to check if enumerate works correctly \n",
    "(data should return 2 values: input, label)\n",
    "\"\"\"\n",
    "# data.set_split('train')\n",
    "# batch_loader = make_batches(data, batch)\n",
    "# for i, sample in enumerate(batch_loader):\n",
    "#     if i % 100 == 0:\n",
    "#         print(i)\n",
    "#     print(sample['x_data'])\n",
    "#     print(sample['y_target'])"
   ]
  },
  {
   "cell_type": "code",
   "execution_count": 56,
   "id": "d2a28a1e",
   "metadata": {},
   "outputs": [
    {
     "name": "stdout",
     "output_type": "stream",
     "text": [
      "Epoch 1 batch 1 loss: 0.0013880517482757568\n",
      "Epoch 2 batch 1 loss: 0.0007722923159599305\n",
      "Epoch 3 batch 1 loss: 0.0006364080905914307\n",
      "Epoch 4 batch 1 loss: 0.0004708690643310547\n",
      "Epoch 5 batch 1 loss: 0.0002655664086341858\n",
      "Epoch 6 batch 1 loss: 0.00033566421270370486\n",
      "Epoch 7 batch 1 loss: 0.00036245617270469667\n",
      "Epoch 8 batch 1 loss: 0.0002514467537403107\n",
      "Epoch 9 batch 1 loss: 0.0002460096925497055\n",
      "Epoch 10 batch 1 loss: 0.00019773529469966887\n",
      "Epoch 11 batch 1 loss: 0.0002606934905052185\n",
      "Epoch 12 batch 1 loss: 0.00014930115640163422\n",
      "Epoch 13 batch 1 loss: 0.00017357003688812255\n",
      "Epoch 14 batch 1 loss: 0.00012742172181606293\n",
      "Epoch 15 batch 1 loss: 9.508050978183746e-05\n",
      "Epoch 16 batch 1 loss: 0.00019129987061023711\n",
      "Epoch 17 batch 1 loss: 0.0001104007288813591\n",
      "Epoch 18 batch 1 loss: 0.0003919859826564789\n",
      "Epoch 19 batch 1 loss: 0.00020790815353393554\n",
      "Epoch 20 batch 1 loss: 0.00013633477687835695\n",
      "Epoch 21 batch 1 loss: 0.00017234890162944793\n",
      "Epoch 22 batch 1 loss: 4.675964266061783e-05\n",
      "Epoch 23 batch 1 loss: 6.805776059627534e-05\n",
      "Epoch 24 batch 1 loss: 3.465205430984497e-05\n",
      "Epoch 25 batch 1 loss: 2.804521471261978e-05\n",
      "Epoch 26 batch 1 loss: 3.360714018344879e-05\n",
      "Epoch 27 batch 1 loss: 6.517176330089569e-05\n",
      "Epoch 28 batch 1 loss: 2.2823093459010125e-05\n",
      "Epoch 29 batch 1 loss: 2.9527930542826652e-05\n",
      "Epoch 30 batch 1 loss: 3.095684945583343e-05\n",
      "Epoch 31 batch 1 loss: 1.6648048534989355e-05\n",
      "Epoch 32 batch 1 loss: 5.969894677400589e-05\n",
      "Epoch 33 batch 1 loss: 6.317871809005737e-05\n",
      "Epoch 34 batch 1 loss: 4.493007808923721e-05\n",
      "Epoch 35 batch 1 loss: 0.0002717018723487854\n",
      "Epoch 36 batch 1 loss: 1.5771873295307158e-05\n",
      "Epoch 37 batch 1 loss: 2.147601544857025e-05\n",
      "Epoch 38 batch 1 loss: 2.4392375722527505e-05\n",
      "Epoch 39 batch 1 loss: 2.03249529004097e-05\n",
      "Epoch 40 batch 1 loss: 0.0001231229230761528\n",
      "Epoch 41 batch 1 loss: 1.1302008293569088e-05\n",
      "Epoch 42 batch 1 loss: 9.055785834789275e-06\n",
      "Epoch 43 batch 1 loss: 1.977846957743168e-05\n",
      "Epoch 44 batch 1 loss: 1.0077547281980514e-05\n",
      "Epoch 45 batch 1 loss: 1.171386893838644e-05\n",
      "Epoch 46 batch 1 loss: 4.976479336619377e-06\n",
      "Epoch 47 batch 1 loss: 5.106331780552864e-06\n",
      "Epoch 48 batch 1 loss: 2.122623845934868e-05\n",
      "Epoch 49 batch 1 loss: 2.960604801774025e-05\n",
      "Epoch 50 batch 1 loss: 1.6112688928842543e-05\n"
     ]
    }
   ],
   "source": [
    "\"\"\"\n",
    "training loop\n",
    "\"\"\"\n",
    "\n",
    "loss_vals=  []\n",
    "for epoch in range(epochs):\n",
    "\n",
    "    # setup\n",
    "    data.set_split('train')\n",
    "    train_loader = make_batches(data, batch)\n",
    "\n",
    "    running_loss = 0.\n",
    "    last_loss = 0.\n",
    "    epoch_loss = []\n",
    "\n",
    "    # enumerate to track the batch index and do some intra-epoch reporting\n",
    "    for i, sample in enumerate(train_loader):\n",
    "        # zero gradients each batch\n",
    "        optimizer.zero_grad()\n",
    "        \n",
    "        inputs = ((sample)['x_data']).float()\n",
    "        labels = sample['y_target']\n",
    "\n",
    "        # predict for batch\n",
    "        outputs = model(inputs)\n",
    "\n",
    "        # compute loss and gradients\n",
    "        loss = criterion(outputs, labels)\n",
    "        epoch_loss.append(loss.item())\n",
    "        loss.backward()\n",
    "\n",
    "        # adjust weights\n",
    "        optimizer.step()\n",
    "\n",
    "        # report\n",
    "        running_loss += loss.item()\n",
    "        if i % 100 == 0:\n",
    "            last_loss = running_loss / 1000 # loss per batch\n",
    "            print('Epoch {} batch {} loss: {}'.format(epoch + 1, i + 1, last_loss))\n",
    "            running_loss = 0.\n",
    "        \n",
    "    # append avg loss per epoch to loss vals\n",
    "    loss_vals.append(sum(epoch_loss)/len(epoch_loss))"
   ]
  },
  {
   "cell_type": "code",
   "execution_count": 57,
   "id": "ebace269",
   "metadata": {},
   "outputs": [
    {
     "data": {
      "image/png": "[encoded data removed]",
      "text/plain": [
       "<Figure size 432x288 with 1 Axes>"
      ]
     },
     "metadata": {
      "needs_background": "light"
     },
     "output_type": "display_data"
    }
   ],
   "source": [
    "# plot loss once finished\n",
    "def my_plot(epochs, loss):\n",
    "    plt.plot(epochs, loss)\n",
    "    plt.title(f'train loss with batch size {batch}, lr {lr}')\n",
    "    plt.xlabel('epoch')\n",
    "    plt.ylabel('loss')\n",
    "# plot loss when finished\n",
    "my_plot(np.linspace(1, epochs, epochs).astype(int), loss_vals)"
   ]
  },
  {
   "cell_type": "code",
   "execution_count": 58,
   "id": "be53fac1",
   "metadata": {},
   "outputs": [
    {
     "name": "stdout",
     "output_type": "stream",
     "text": [
      "accuracy = 72.5, 🎉🎉🎉\n"
     ]
    }
   ],
   "source": [
    "# set test split\n",
    "data.set_split('test')\n",
    "test_loader = make_batches(data, batch)\n",
    "\n",
    "# accuracy\n",
    "with torch.no_grad():\n",
    "    n_correct = 0\n",
    "    n_samples = 0\n",
    "    y_pred = []\n",
    "    y_true = []\n",
    "    for i, sample in enumerate(test_loader):\n",
    "        \n",
    "        if batch == 1:\n",
    "            inputs = (sample['x_data'])[0].float()\n",
    "        else:\n",
    "            inputs = ((sample)['x_data']).float()\n",
    "        labels = sample['y_target']\n",
    "        \n",
    "        \n",
    "        # test the trained model\n",
    "        outputs = model(inputs)\n",
    "        \n",
    "        # value, index\n",
    "        _, predictions = torch.max(outputs, 1)\n",
    "        y_pred.extend(predictions.data.cpu().numpy())\n",
    "        y_true.extend(labels.data.cpu().numpy())\n",
    "\n",
    "        n_samples += labels.shape[0] # gives us n of samples of current batch\n",
    "        n_correct += (predictions == labels).sum().item()\n",
    "\n",
    "    \n",
    "    # accuracy in percent\n",
    "    acc = 100.0 * n_correct / n_samples\n",
    "    if acc < 69.0:\n",
    "        print(f'accuracy = {acc}')\n",
    "    elif acc >= 69.0:\n",
    "        print(f'accuracy = {acc}, 🎉🎉🎉')\n",
    "        "
   ]
  },
  {
   "cell_type": "code",
   "execution_count": 59,
   "id": "8f297497",
   "metadata": {},
   "outputs": [],
   "source": [
    "# save the model\n",
    "torch.save(model.state_dict(), \"./kowalsky_72_balanced.pth\")"
   ]
  },
  {
   "cell_type": "code",
   "execution_count": 60,
   "id": "8be40518",
   "metadata": {},
   "outputs": [
    {
     "data": {
      "text/plain": [
       "<AxesSubplot:title={'center':'cf matrix of testadata size 504'}>"
      ]
     },
     "execution_count": 60,
     "metadata": {},
     "output_type": "execute_result"
    },
    {
     "data": {
      "image/png": "[encoded data removed]",
      "text/plain": [
       "<Figure size 864x504 with 2 Axes>"
      ]
     },
     "metadata": {
      "needs_background": "light"
     },
     "output_type": "display_data"
    }
   ],
   "source": [
    "# confusion matrix\n",
    "\n",
    "classes = ('Agree', 'Disagree', 'Discuss', 'Unrelated')\n",
    "\n",
    "# Build confusion matrix\n",
    "cf_matrix = confusion_matrix(y_true, y_pred)\n",
    "df_cm = pd.DataFrame(cf_matrix, index = [i for i in classes],\n",
    "                     columns = [i for i in classes])\n",
    "plt.figure(figsize = (12,7))\n",
    "plt.title(f'cf matrix of testadata size {len(data._target_df)}')\n",
    "sns.heatmap(df_cm, annot=True)"
   ]
  },
  {
   "cell_type": "code",
   "execution_count": null,
   "id": "58543abf",
   "metadata": {},
   "outputs": [],
   "source": [
    "# TODO f1 score"
   ]
  }
 ],
 "metadata": {
  "interpreter": {
   "hash": "f17c676b12c14782c06c04004144efea31e641eee12305210fddc7cd25bf6ccc"
  },
  "kernelspec": {
   "display_name": "Python 3.9.7 ('base')",
   "language": "python",
   "name": "python3"
  },
  "language_info": {
   "codemirror_mode": {
    "name": "ipython",
    "version": 3
   },
   "file_extension": ".py",
   "mimetype": "text/x-python",
   "name": "python",
   "nbconvert_exporter": "python",
   "pygments_lexer": "ipython3",
   "version": "3.9.7"
  }
 },
 "nbformat": 4,
 "nbformat_minor": 5
}
