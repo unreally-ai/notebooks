{
 "cells": [
  {
   "cell_type": "markdown",
   "id": "1e6e45c1",
   "metadata": {},
   "source": [
    "# The Unreally Notebook\n",
    "### Step 1 - load data & helper functions\n"
   ]
  },
  {
   "cell_type": "code",
   "execution_count": 1,
   "id": "a32684fc",
   "metadata": {},
   "outputs": [],
   "source": [
    "import torch\n",
    "import torch.nn as nn\n",
    "from torch.utils.data import Dataset, DataLoader, WeightedRandomSampler\n",
    "\n",
    "import matplotlib.pyplot as plt\n",
    "import seaborn as sns\n",
    "import pandas as pd\n",
    "import numpy as np\n",
    "\n",
    "from sklearn.model_selection import train_test_split\n",
    "from sklearn.feature_extraction.text import TfidfVectorizer,CountVectorizer\n",
    "from sklearn.metrics.pairwise import cosine_similarity\n",
    "from sklearn.metrics import confusion_matrix\n",
    "\n",
    "from collections import Counter\n",
    "import re\n",
    "\n",
    "from nltk.corpus import stopwords\n",
    "from nltk.stem import WordNetLemmatizer "
   ]
  },
  {
   "cell_type": "code",
   "execution_count": 2,
   "id": "1568dccf",
   "metadata": {},
   "outputs": [],
   "source": [
    "# quick look at the data before we start \n",
    "\n",
    "# df = pd.read_excel(\n",
    "#     'fake_bananas_structuredKopie_4.xlsx', \n",
    "#     index_col=None, \n",
    "#     header=0,\n",
    "# )\n",
    "# print(df.shape)\n",
    "# df.head()"
   ]
  },
  {
   "cell_type": "code",
   "execution_count": 6,
   "id": "386e74bf",
   "metadata": {},
   "outputs": [],
   "source": [
    "# path to dataset\n",
    "DATAPATH = 'Data/big_chungus.xlsx'"
   ]
  },
  {
   "cell_type": "code",
   "execution_count": 3,
   "id": "a9e01cc6",
   "metadata": {},
   "outputs": [],
   "source": [
    "# takes in string & returns a cleaned string of all non-stop-words\n",
    "def preprocess(text, lemmatizer = WordNetLemmatizer()):\n",
    "    sw = set(stopwords.words('english'))\n",
    "    text = re.sub(r'[^\\w\\s]', '', text).lower()\n",
    "    s = \"\"\n",
    "    for word in text.split():\n",
    "        if word not in sw:\n",
    "                s += (lemmatizer.lemmatize(word) + \" \")\n",
    "    return s\n",
    "\n",
    "# creates a vocabulary without stop words\n",
    "# gets called in StanceDataset().__init__\n",
    "def create_vocab(df):\n",
    "    print(\"creating vocabulary...\")\n",
    "    vocab = []\n",
    "    for i in range(len(df)-1):\n",
    "            vocab.append(preprocess((df.iloc[i])['head']))\n",
    "            vocab.append(preprocess((df.iloc[i])['body']))\n",
    "    vocab_df = pd.DataFrame(vocab)\n",
    "    \n",
    "    counter = Counter(\" \".join(vocab_df[0]).split()).most_common(5000)\n",
    "    counter_df = pd.DataFrame(counter)\n",
    "    return counter_df\n"
   ]
  },
  {
   "cell_type": "code",
   "execution_count": 4,
   "id": "d0bef21e",
   "metadata": {},
   "outputs": [],
   "source": [
    "def fit_vectorizers(dataset):\n",
    "    print('fitting vectorizer...')\n",
    "\n",
    "    # create array of all texts in dataset\n",
    "    data = [(dataset.iloc[i])['head'] for i in range(len(dataset))] # headlines\n",
    "    data += ((dataset.iloc[i])['body'] for i in range(len(dataset))) # bodies\n",
    "\n",
    "    vocab = create_vocab(dataset)[0]\n",
    "    \n",
    "    # fit to dataset (creates dictionary)\n",
    "    bow = CountVectorizer(\n",
    "        vocabulary=vocab,\n",
    "        max_features=5000,\n",
    "    )\n",
    "    tfidf = TfidfVectorizer(\n",
    "        vocabulary=vocab,\n",
    "        max_features=5000,\n",
    "    )\n",
    "    bow.fit(data)\n",
    "    tfidf.fit(data)\n",
    "    print('vectorizer ready!')\n",
    "    return bow, tfidf"
   ]
  },
  {
   "cell_type": "code",
   "execution_count": null,
   "id": "cb88ddcc",
   "metadata": {},
   "outputs": [],
   "source": [
    "\"\"\"\n",
    "Code block to test if the fit vectorizer sub-pipeline works. It calls:\n",
    "fit_vectorizer()\n",
    "    create_vocab()\n",
    "        preprocess()\n",
    "\"\"\"\n",
    "# bow, tfidf = fit_vectorizers(df)\n",
    "# test_input = ['super cool test input string']\n",
    "\n",
    "# print(len(bow.vocabulary_))\n",
    "# bow.transform(test_input).shape"
   ]
  },
  {
   "cell_type": "markdown",
   "id": "1117a79b",
   "metadata": {},
   "source": [
    "### Step 2 - define pytorch custom dataset class"
   ]
  },
  {
   "cell_type": "code",
   "execution_count": 10,
   "id": "bc9e26e7",
   "metadata": {},
   "outputs": [],
   "source": [
    "# config\n",
    "device = torch.device('cuda' if torch.cuda.is_available else 'cpu')\n",
    "\n",
    "# custom dataset class\n",
    "class StanceDataset(Dataset):\n",
    "    def __init__(self, stance_df):\n",
    "        \"\"\"\n",
    "        Args:\n",
    "            stance_df (pandas.DataFrame): the dataset\n",
    "            vectorizer (TfidfVectorizer): sklearn vectorizer\n",
    "        \"\"\"\n",
    "        self.data = stance_df\n",
    "        \n",
    "        self._bow, self._tfidf = fit_vectorizers(stance_df)\n",
    "        \n",
    "        # splits (train, test, validation) #TODO: this is not how train split works in dataloader\n",
    "        self.train, self.test = train_test_split(self.data, test_size=0.3, shuffle=True)\n",
    "        self.test, self.val = train_test_split(self.test, test_size=0.5, shuffle=False)\n",
    "        # split sizes\n",
    "        self.train_len = len(self.train)\n",
    "        self.test_len = len(self.test)\n",
    "        self.val_len = len(self.val)\n",
    "        \n",
    "        self._lookup_dict = {'train': (self.train, self.train_len),\n",
    "                             'val': (self.val, self.val_len),\n",
    "                             'test': (self.test, self.test_len)}\n",
    "        self.set_split('train')\n",
    "\n",
    "\n",
    "    def set_split(self, split='train'):\n",
    "        \"\"\" selects the splits in the dataset using a column in the dataframe \n",
    "        \n",
    "        Args:\n",
    "            split (str): one of \"train\", \"val\", or \"test\"\n",
    "        \"\"\"\n",
    "        self._target_split = split\n",
    "        self._target_df, self._target_size = self._lookup_dict[split]\n",
    "\n",
    "    def __len__(self):\n",
    "        return self._target_size\n",
    "\n",
    "    def __getitem__(self, index):\n",
    "        \"\"\"\n",
    "        Args:\n",
    "            index (int): index to current data point\n",
    "        Returns:\n",
    "            dictionary holding tensor data point feature (x_data) and skalar tensor label (y_target)\n",
    "        \"\"\"\n",
    "        \n",
    "        # get text values from current row\n",
    "        row = (self._target_df.iloc[index])\n",
    "        claim = [row['head']]\n",
    "        body = [row['body']]\n",
    "\n",
    "        \n",
    "        # transform claim (headline/tweet) and target (body) to bowTF vector\n",
    "        bow_x = self._bow.transform(claim)\n",
    "        bow_y = self._bow.transform(body)\n",
    "\n",
    "        # transform claim (headline/tweet) and target (body) to TFIDF vector\n",
    "        tfidf_x = self._tfidf.transform(claim)\n",
    "        tfidf_y = self._tfidf.transform(body)\n",
    "        \n",
    "        # take cosine similary of TFIDF vectors\n",
    "        cosim = cosine_similarity(tfidf_x, tfidf_y)\n",
    "        \n",
    "        # concat x+cosim+y to input vector\n",
    "        claim_df = pd.DataFrame(bow_x.toarray()) \n",
    "        body_df = pd.DataFrame(bow_y.toarray())\n",
    "        cosim_df = pd.DataFrame(cosim)\n",
    "        \n",
    "        # convert to tensor\n",
    "        x_data = (pd.concat([claim_df, cosim_df, body_df],axis=1)).to_numpy()\n",
    "        x_data = torch.from_numpy(x_data)\n",
    "\n",
    "        # get stance & convert to tensor\n",
    "        y_data = row['Stance']\n",
    "        stance_map = {\n",
    "            \"agree\": 0,\n",
    "            \"disagree\": 1,\n",
    "            \"discuss\": 2,\n",
    "            \"unrelated\": 3\n",
    "        }\n",
    "        y_data = torch.tensor(stance_map[y_data])\n",
    "        return {'x_data': x_data,\n",
    "                'y_target': y_data}"
   ]
  },
  {
   "cell_type": "code",
   "execution_count": 12,
   "id": "f20ec28e",
   "metadata": {},
   "outputs": [],
   "source": [
    "def load_dataset(debug=False):\n",
    "    \"\"\"\n",
    "    load dataset and vectorizer\n",
    "    \"\"\"\n",
    "    print('loading dataset...')\n",
    "    df = pd.read_excel(\n",
    "        DATAPATH, \n",
    "        index_col=None, \n",
    "        header=0   \n",
    "    )\n",
    "    print('loaded!')\n",
    "    \n",
    "    dataset = StanceDataset(df)\n",
    "    return dataset"
   ]
  },
  {
   "cell_type": "code",
   "execution_count": 13,
   "id": "5dc61afe",
   "metadata": {},
   "outputs": [
    {
     "name": "stdout",
     "output_type": "stream",
     "text": [
      "loading dataset...\n",
      "loaded!\n",
      "fitting vectorizer...\n",
      "creating vocabulary...\n",
      "vectorizer ready!\n"
     ]
    }
   ],
   "source": [
    "data = load_dataset()"
   ]
  },
  {
   "cell_type": "code",
   "execution_count": 18,
   "id": "124f2998",
   "metadata": {},
   "outputs": [
    {
     "data": {
      "text/html": [
       "<div>\n",
       "<style scoped>\n",
       "    .dataframe tbody tr th:only-of-type {\n",
       "        vertical-align: middle;\n",
       "    }\n",
       "\n",
       "    .dataframe tbody tr th {\n",
       "        vertical-align: top;\n",
       "    }\n",
       "\n",
       "    .dataframe thead th {\n",
       "        text-align: right;\n",
       "    }\n",
       "</style>\n",
       "<table border=\"1\" class=\"dataframe\">\n",
       "  <thead>\n",
       "    <tr style=\"text-align: right;\">\n",
       "      <th></th>\n",
       "      <th>head</th>\n",
       "      <th>Body ID</th>\n",
       "      <th>Stance</th>\n",
       "      <th>body</th>\n",
       "    </tr>\n",
       "  </thead>\n",
       "  <tbody>\n",
       "    <tr>\n",
       "      <th>32062</th>\n",
       "      <td>Wife and son of Isil leader Abu Bakr al-Baghda...</td>\n",
       "      <td>1787</td>\n",
       "      <td>unrelated</td>\n",
       "      <td>While local reports revealed Wednesday that th...</td>\n",
       "    </tr>\n",
       "    <tr>\n",
       "      <th>36661</th>\n",
       "      <td>Alleged audio of Michael Brown shooting released</td>\n",
       "      <td>1949</td>\n",
       "      <td>unrelated</td>\n",
       "      <td>There it was in the middle of a field, baking ...</td>\n",
       "    </tr>\n",
       "    <tr>\n",
       "      <th>37575</th>\n",
       "      <td>Indian 'Rapist' Castrated By Angry Mob Who Hac...</td>\n",
       "      <td>2005</td>\n",
       "      <td>agree</td>\n",
       "      <td>Yes, rape is a serious offence and I support t...</td>\n",
       "    </tr>\n",
       "    <tr>\n",
       "      <th>3183</th>\n",
       "      <td>Hero soldier Nathan Cirillo killed by convicte...</td>\n",
       "      <td>186</td>\n",
       "      <td>unrelated</td>\n",
       "      <td>The sound of 10 or 11 shots from the gun of Fe...</td>\n",
       "    </tr>\n",
       "    <tr>\n",
       "      <th>40698</th>\n",
       "      <td>Led Zeppelin Reunion: Robert Plant Rips Up $30...</td>\n",
       "      <td>2133</td>\n",
       "      <td>unrelated</td>\n",
       "      <td>There have been lots of “Comcast delivers bad ...</td>\n",
       "    </tr>\n",
       "  </tbody>\n",
       "</table>\n",
       "</div>"
      ],
      "text/plain": [
       "                                                    head  Body ID     Stance  \\\n",
       "32062  Wife and son of Isil leader Abu Bakr al-Baghda...     1787  unrelated   \n",
       "36661   Alleged audio of Michael Brown shooting released     1949  unrelated   \n",
       "37575  Indian 'Rapist' Castrated By Angry Mob Who Hac...     2005      agree   \n",
       "3183   Hero soldier Nathan Cirillo killed by convicte...      186  unrelated   \n",
       "40698  Led Zeppelin Reunion: Robert Plant Rips Up $30...     2133  unrelated   \n",
       "\n",
       "                                                    body  \n",
       "32062  While local reports revealed Wednesday that th...  \n",
       "36661  There it was in the middle of a field, baking ...  \n",
       "37575  Yes, rape is a serious offence and I support t...  \n",
       "3183   The sound of 10 or 11 shots from the gun of Fe...  \n",
       "40698  There have been lots of “Comcast delivers bad ...  "
      ]
     },
     "execution_count": 18,
     "metadata": {},
     "output_type": "execute_result"
    }
   ],
   "source": [
    "(data._target_df).head()"
   ]
  },
  {
   "cell_type": "code",
   "execution_count": 14,
   "id": "d2ca07ac",
   "metadata": {},
   "outputs": [
    {
     "name": "stdout",
     "output_type": "stream",
     "text": [
      "should be the lenght of train split:  34980\n",
      "tensor([[0., 0., 0.,  ..., 0., 0., 0.]], dtype=torch.float64)\n",
      "tensor(3)\n"
     ]
    }
   ],
   "source": [
    "\"\"\"\n",
    "Test block for getitem. This is what the training loop will call each batch \n",
    "\"\"\"\n",
    "\n",
    "data.set_split('train')\n",
    "print(\"should be the lenght of train split: \", len(data._target_df))\n",
    "\n",
    "d = data.__getitem__(1)\n",
    "print(d['x_data'])\n",
    "print(d['y_target'])"
   ]
  },
  {
   "cell_type": "markdown",
   "id": "1e9d7281",
   "metadata": {},
   "source": [
    "### Step 3 - Weighted Sampling\n",
    "Because the stance data is * slightly * unbalanced"
   ]
  },
  {
   "cell_type": "code",
   "execution_count": 15,
   "id": "4f13f6df",
   "metadata": {},
   "outputs": [
    {
     "name": "stdout",
     "output_type": "stream",
     "text": [
      "{'unrelated': 25557, 'discuss': 6245, 'agree': 2575, 'disagree': 603}\n"
     ]
    },
    {
     "data": {
      "text/plain": [
       "Text(0.5, 1.0, 'class distribution')"
      ]
     },
     "execution_count": 15,
     "metadata": {},
     "output_type": "execute_result"
    },
    {
     "data": {
      "image/png": "[encoded data removed]",
      "text/plain": [
       "<Figure size 432x288 with 1 Axes>"
      ]
     },
     "metadata": {
      "needs_background": "light"
     },
     "output_type": "display_data"
    }
   ],
   "source": [
    "# distribution of labels\n",
    "class_distribution = (pd.value_counts(data._target_df['Stance'])).to_dict()\n",
    "print(class_distribution)\n",
    "sns.barplot(data = pd.DataFrame.from_dict([class_distribution]).melt(), x = \"variable\", y=\"value\", hue=\"variable\").set_title('class distribution')"
   ]
  },
  {
   "cell_type": "code",
   "execution_count": null,
   "id": "298592c9",
   "metadata": {},
   "outputs": [
    {
     "ename": "",
     "evalue": "",
     "output_type": "error",
     "traceback": [
      "\u001b[1;31mCanceled future for execute_request message before replies were done"
     ]
    },
    {
     "ename": "",
     "evalue": "",
     "output_type": "error",
     "traceback": [
      "\u001b[1;31mThe Kernel crashed while executing code in the the current cell or a previous cell. Please review the code in the cell(s) to identify a possible cause of the failure. Click <a href='https://aka.ms/vscodeJupyterKernelCrash'>here</a> for more info. View Jupyter <a href='command:jupyter.viewOutput'>log</a> for further details."
     ]
    }
   ],
   "source": [
    "data.set_split('train')\n",
    "y_train = [(data._target_df['Stance'])[i] for i in range(data._target_size)]\n",
    "class_sample_count = np.array(\n",
    "    [len(np.where(y_train == t)[0]) for t in np.unique(y_train)])\n"
   ]
  },
  {
   "cell_type": "markdown",
   "id": "12cdee13",
   "metadata": {},
   "source": [
    "### Step 3 - Define model & training"
   ]
  },
  {
   "cell_type": "code",
   "execution_count": 27,
   "id": "7f858166",
   "metadata": {},
   "outputs": [],
   "source": [
    "# hyperparameters\n",
    "in_dim = 10001\n",
    "hidden_dim = 100\n",
    "out_dim = 4\n",
    "epochs = 42 #90\n",
    "batch = 32\n",
    "lr = 0.01"
   ]
  },
  {
   "cell_type": "code",
   "execution_count": 21,
   "id": "9e5b9b2c",
   "metadata": {},
   "outputs": [],
   "source": [
    "# re-usable way to create dataloader\n",
    "def make_batches(dataset, batch_size, shuffle=True, drop_last=True):\n",
    "    dataloader = DataLoader(dataset=dataset, batch_size=batch_size,\n",
    "                            shuffle=shuffle, drop_last=drop_last)\n",
    "    for data_dict in dataloader:\n",
    "        out_data_dict = {}\n",
    "        for name, tensor in data_dict.items():\n",
    "            out_data_dict[name] = data_dict[name].to(device)\n",
    "        yield out_data_dict\n"
   ]
  },
  {
   "cell_type": "code",
   "execution_count": 22,
   "id": "9e61f3e7",
   "metadata": {},
   "outputs": [],
   "source": [
    "# define neural net\n",
    "class NN(nn.Module):\n",
    "    def __init__(self, in_dim, hidden_dim, out_dim):\n",
    "        super(NN, self).__init__()\n",
    "\n",
    "        # define layers\n",
    "        self.l1 = nn.Linear(in_dim, hidden_dim)\n",
    "        self.relu = nn.ReLU()\n",
    "        self.l2 = nn.Linear(hidden_dim, out_dim)\n",
    "    \n",
    "    # applies layers with sample x\n",
    "    def forward(self, x):\n",
    "        out = self.l1(x).squeeze()\n",
    "        out = self.relu(out)\n",
    "        out = self.l2(out)\n",
    "        return out\n",
    "\n",
    "model = NN(in_dim, hidden_dim, out_dim).to(device)\n",
    "\n",
    "criterion = nn.CrossEntropyLoss() # this also applies softmax for us\n",
    "optimizer = torch.optim.Adam(model.parameters(), lr=lr)"
   ]
  },
  {
   "cell_type": "code",
   "execution_count": null,
   "id": "39635847",
   "metadata": {},
   "outputs": [],
   "source": [
    "\"\"\"\n",
    "Test block to check if enumerate works correctly \n",
    "(data should return 2 values: input, label)\n",
    "\"\"\"\n",
    "# data.set_split('train')\n",
    "# batch_loader = make_batches(data, batch)\n",
    "# for i, sample in enumerate(batch_loader):\n",
    "#     if i % 100 == 0:\n",
    "#         print(i)\n",
    "#     print(sample['x_data'])\n",
    "#     print(sample['y_target'])"
   ]
  },
  {
   "cell_type": "code",
   "execution_count": 23,
   "id": "d2a28a1e",
   "metadata": {},
   "outputs": [
    {
     "name": "stdout",
     "output_type": "stream",
     "text": [
      "Epoch 1 batch 1 loss: 0.0013778045177459716\n",
      "Epoch 2 batch 1 loss: 0.0007721033096313477\n"
     ]
    }
   ],
   "source": [
    "\"\"\"\n",
    "training loop\n",
    "\"\"\"\n",
    "\n",
    "loss_vals=  []\n",
    "for epoch in range(epochs):\n",
    "\n",
    "    # setup\n",
    "    data.set_split('train')\n",
    "    train_loader = make_batches(data, batch)\n",
    "\n",
    "    running_loss = 0.\n",
    "    last_loss = 0.\n",
    "    epoch_loss = []\n",
    "\n",
    "    # enumerate to track the batch index and do some intra-epoch reporting\n",
    "    for i, sample in enumerate(train_loader):\n",
    "        # zero gradients each batch\n",
    "        optimizer.zero_grad()\n",
    "        \n",
    "        inputs = ((sample)['x_data']).float()\n",
    "        labels = sample['y_target']\n",
    "\n",
    "        # predict for batch\n",
    "        outputs = model(inputs)\n",
    "\n",
    "        # compute loss and gradients\n",
    "        loss = criterion(outputs, labels)\n",
    "        epoch_loss.append(loss.item())\n",
    "        loss.backward()\n",
    "\n",
    "        # adjust weights\n",
    "        optimizer.step()\n",
    "\n",
    "        # report\n",
    "        running_loss += loss.item()\n",
    "        if i % 100 == 0:\n",
    "            last_loss = running_loss / 1000 # loss per batch\n",
    "            print('Epoch {} batch {} loss: {}'.format(epoch + 1, i + 1, last_loss))\n",
    "            running_loss = 0.\n",
    "        \n",
    "    # append avg loss per epoch to loss vals    \n",
    "    loss_vals.append(sum(epoch_loss)/len(epoch_loss))"
   ]
  },
  {
   "cell_type": "code",
   "execution_count": 29,
   "id": "ebace269",
   "metadata": {},
   "outputs": [
    {
     "data": {
      "image/png": "[encoded data removed]",
      "text/plain": [
       "<Figure size 432x288 with 1 Axes>"
      ]
     },
     "metadata": {
      "needs_background": "light"
     },
     "output_type": "display_data"
    }
   ],
   "source": [
    "# plot loss once finished\n",
    "def my_plot(epochs, loss):\n",
    "    plt.plot(epochs, loss)\n",
    "    plt.title(f'train loss with batch size {batch}')\n",
    "    plt.xlabel('epoch')\n",
    "    plt.ylabel('loss')\n",
    "# plot loss when finished\n",
    "my_plot(np.linspace(1, epochs, epochs).astype(int), loss_vals)"
   ]
  },
  {
   "cell_type": "code",
   "execution_count": 125,
   "id": "ce7d4387",
   "metadata": {},
   "outputs": [
    {
     "data": {
      "text/plain": [
       "485"
      ]
     },
     "execution_count": 125,
     "metadata": {},
     "output_type": "execute_result"
    }
   ],
   "source": [
    "# set test split\n",
    "data.set_split('test')\n",
    "test_loader = make_batches(data, batch)\n",
    "len(data._target_df)"
   ]
  },
  {
   "cell_type": "code",
   "execution_count": 126,
   "id": "be53fac1",
   "metadata": {},
   "outputs": [
    {
     "name": "stdout",
     "output_type": "stream",
     "text": [
      "accuracy = 59.50413223140496\n"
     ]
    }
   ],
   "source": [
    "# accuracy\n",
    "with torch.no_grad():\n",
    "    n_correct = 0\n",
    "    n_samples = 0\n",
    "    for i, sample in enumerate(test_loader):\n",
    "        \n",
    "        if batch == 1:\n",
    "            inputs = (sample['x_data'])[0].float()\n",
    "        else:\n",
    "            inputs = ((sample)['x_data']).float()\n",
    "        labels = sample['y_target']\n",
    "        \n",
    "        # inputs.to(device)\n",
    "        # labels.to(device)\n",
    "        \n",
    "        # test the trained model\n",
    "        outputs = model(inputs)\n",
    "        \n",
    "        # value, index\n",
    "        _, predictions = torch.max(outputs, 1)\n",
    "        n_samples += labels.shape[0] # gives us n of samples of current batch\n",
    "        n_correct += (predictions == labels).sum().item()\n",
    "\n",
    "        # provisonal index break\n",
    "        if i == len(data._target_df)-5:\n",
    "            break\n",
    "    \n",
    "    # accuracy in percent\n",
    "    acc = 100.0 * n_correct / n_samples\n",
    "    if acc < 69.0:\n",
    "        print(f'accuracy = {acc}')\n",
    "    elif acc >= 69.0:\n",
    "        print(f'accuracy = {acc}, 🎉🎉🎉')\n",
    "        "
   ]
  },
  {
   "cell_type": "code",
   "execution_count": null,
   "id": "8be40518",
   "metadata": {},
   "outputs": [],
   "source": [
    "# confusion matrix\n",
    "y_pred = []\n",
    "y_true = []\n",
    "\n",
    "# iterate over test data\n",
    "for i, sample in enumerate(test_loader):\n",
    "        inputs = (i[1][0]).to(device) # data\n",
    "        labels = (i[1][1]).to(device) # label\n",
    "        \n",
    "        output = model(inputs.float()) # Feed Network\n",
    "\n",
    "        output = (torch.max(torch.exp(output), 1)[1]).data.cpu().numpy()\n",
    "        y_pred.extend(output) # Save Prediction\n",
    "        \n",
    "        labels = labels.data.cpu().numpy()\n",
    "        y_true.extend(labels) # Save Truth\n",
    "\n",
    "# constant for classes\n",
    "classes = ('Agree', 'Disagree', 'Discuss', 'Unrelated')\n",
    "\n",
    "# Build confusion matrix\n",
    "cf_matrix = confusion_matrix(y_true, y_pred)\n",
    "df_cm = pd.DataFrame(cf_matrix, index = [i for i in classes],\n",
    "                     columns = [i for i in classes])\n",
    "plt.figure(figsize = (12,7))\n",
    "plt.title(f'cf matrix of testadata size {len(data._target_df)}')\n",
    "sn.heatmap(df_cm, annot=True)"
   ]
  }
 ],
 "metadata": {
  "interpreter": {
   "hash": "f17c676b12c14782c06c04004144efea31e641eee12305210fddc7cd25bf6ccc"
  },
  "kernelspec": {
   "display_name": "Python 3.9.7 ('base')",
   "language": "python",
   "name": "python3"
  },
  "language_info": {
   "codemirror_mode": {
    "name": "ipython",
    "version": 3
   },
   "file_extension": ".py",
   "mimetype": "text/x-python",
   "name": "python",
   "nbconvert_exporter": "python",
   "pygments_lexer": "ipython3",
   "version": "3.9.7"
  }
 },
 "nbformat": 4,
 "nbformat_minor": 5
}
