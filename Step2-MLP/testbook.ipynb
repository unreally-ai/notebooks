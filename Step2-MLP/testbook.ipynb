{
 "cells": [
  {
   "cell_type": "markdown",
   "id": "1e6e45c1",
   "metadata": {},
   "source": [
    "# GloVe Testbook\n",
    "### Step 1 - load data & helper functions\n"
   ]
  },
  {
   "cell_type": "code",
   "execution_count": 1,
   "id": "a32684fc",
   "metadata": {},
   "outputs": [
    {
     "name": "stderr",
     "output_type": "stream",
     "text": [
      "/home/cas/.local/lib/python3.10/site-packages/tqdm/auto.py:22: TqdmWarning: IProgress not found. Please update jupyter and ipywidgets. See https://ipywidgets.readthedocs.io/en/stable/user_install.html\n",
      "  from .autonotebook import tqdm as notebook_tqdm\n"
     ]
    }
   ],
   "source": [
    "import torch\n",
    "import torch.nn as nn\n",
    "from torchtext.data import get_tokenizer\n",
    "from torchtext.vocab import GloVe\n",
    "from torch.utils.data import Dataset, DataLoader, WeightedRandomSampler\n",
    "\n",
    "import matplotlib.pyplot as plt\n",
    "import seaborn as sns\n",
    "import pandas as pd\n",
    "import numpy as np\n",
    "\n",
    "from sklearn.model_selection import train_test_split\n",
    "from sklearn.feature_extraction.text import TfidfVectorizer,CountVectorizer\n",
    "from sklearn.metrics.pairwise import cosine_similarity\n",
    "from sklearn.metrics import confusion_matrix\n",
    "\n",
    "from collections import Counter\n",
    "import re\n",
    "\n",
    "from nltk.corpus import stopwords\n",
    "from nltk.stem import WordNetLemmatizer "
   ]
  },
  {
   "cell_type": "code",
   "execution_count": 135,
   "id": "386e74bf",
   "metadata": {},
   "outputs": [],
   "source": [
    "# path to dataset\n",
    "DATAPATH = 'smallchungus.csv' #big_chungus.xlsx balanced3360.csv smallchungus.csv\n",
    "# device\n",
    "device = 'cpu'"
   ]
  },
  {
   "cell_type": "code",
   "execution_count": 11,
   "id": "a9e01cc6",
   "metadata": {},
   "outputs": [],
   "source": [
    "# takes in string & returns a cleaned string of all non-stop-words\n",
    "def preprocess(text, lemmatizer = WordNetLemmatizer()):\n",
    "    sw = set(stopwords.words('english'))\n",
    "    text = re.sub(r'[^\\w\\s]', '', text).lower()\n",
    "    s = \"\"\n",
    "    for word in text.split():\n",
    "        if word not in sw:\n",
    "                s += (lemmatizer.lemmatize(word) + \" \")\n",
    "    return s\n"
   ]
  },
  {
   "cell_type": "code",
   "execution_count": 18,
   "id": "b5ae5f8f",
   "metadata": {},
   "outputs": [],
   "source": [
    "tokenizer = get_tokenizer(\"basic_english\")\n",
    "max_words = 20\n",
    "embed_len=300\n",
    "global_vectors = GloVe(name='840B', dim=embed_len)"
   ]
  },
  {
   "cell_type": "code",
   "execution_count": 24,
   "id": "1f8f489a",
   "metadata": {},
   "outputs": [],
   "source": [
    "# takes string, return 6000 dim GloVe vector\n",
    "def to_vector(s):\n",
    "    X = tokenizer(s)\n",
    "    # fill / cut tokens to max size\n",
    "    if len(X) < max_words:\n",
    "        X = X+[\"\"]*(max_words-len(X))\n",
    "    else:\n",
    "        X = X[:max_words]\n",
    "\n",
    "    X_tensor = torch.zeros(1, max_words, embed_len)\n",
    "    for i, j in enumerate(X):\n",
    "        X_tensor[0][i] = global_vectors.get_vecs_by_tokens(j)\n",
    "    return(X_tensor.reshape(1, -1))"
   ]
  },
  {
   "cell_type": "code",
   "execution_count": 48,
   "id": "fae5f942",
   "metadata": {},
   "outputs": [
    {
     "data": {
      "text/plain": [
       "torch.Size([1, 12000])"
      ]
     },
     "execution_count": 48,
     "metadata": {},
     "output_type": "execute_result"
    }
   ],
   "source": [
    "x = to_vector(\"test\")\n",
    "y = to_vector(\"vetor\")\n",
    "Z = torch.cat((x, y), 1)\n",
    "Z.shape"
   ]
  },
  {
   "cell_type": "markdown",
   "id": "1117a79b",
   "metadata": {},
   "source": [
    "### Step 2 - define pytorch custom dataset class"
   ]
  },
  {
   "cell_type": "code",
   "execution_count": 49,
   "id": "bc9e26e7",
   "metadata": {},
   "outputs": [],
   "source": [
    "# config\n",
    "\n",
    "# custom dataset class\n",
    "class StanceDataset(Dataset):\n",
    "    def __init__(self, stance_df,  val_split=False):\n",
    "        \"\"\"  Initalizes vectorizers, defines train/test splits\n",
    "        Args:\n",
    "            stance_df (pandas.DataFrame): the dataset\n",
    "        \"\"\"\n",
    "        self.df = stance_df\n",
    "        \n",
    "        # splits (train, test, validation) 80/20 \n",
    "        self.train, self.test = train_test_split(self.df, test_size=0.2, shuffle=True)\n",
    "        if val_split == True:   \n",
    "            # 50/50 val/test\n",
    "            self.test, self.val = train_test_split(self.test, test_size=0.5, shuffle=False)\n",
    "            self.val_len = len(self.val)\n",
    "        # split sizes\n",
    "        self.train_len = len(self.train)\n",
    "        self.test_len = len(self.test)\n",
    "        \n",
    "        self._lookup_dict = {'train': (self.train, self.train_len),\n",
    "                             'test': (self.test, self.test_len)}\n",
    "        if val_split == True:\n",
    "            self._lookup_dict.update({'val': (self.val, self.val_len)})\n",
    "\n",
    "        self.set_split('train')\n",
    "\n",
    "\n",
    "    def set_split(self, split='train'):\n",
    "        \"\"\" selects the splits in the dataset using a column in the dataframe \n",
    "        Args:\n",
    "            split (str): one of \"train\", \"val\", or \"test\"\n",
    "        \"\"\"\n",
    "        self._target_split = split\n",
    "        self._target_df, self._target_size = self._lookup_dict[split]\n",
    "\n",
    "    def __len__(self):\n",
    "        return self._target_size\n",
    "\n",
    "    def __getitem__(self, index):\n",
    "        \"\"\"\n",
    "        Args:\n",
    "            index (int): index to current data point\n",
    "        Returns:\n",
    "            dictionary holding tensor data point feature (x_data) and skalar tensor label (y_data)\n",
    "        \"\"\"\n",
    "        \n",
    "        # get text values from current row\n",
    "        row = (self._target_df.iloc[index])\n",
    "        claim = [row['head']]\n",
    "        body = [row['body']]\n",
    "\n",
    "        # create 6k vector for each\n",
    "        claim = to_vector(preprocess(claim[0]))\n",
    "        body = to_vector(preprocess(body[0]))\n",
    "        \n",
    "        # 12k combined input vector\n",
    "        x_data = torch.cat((claim, body), 1)\n",
    "\n",
    "        # get stance & convert to tensor\n",
    "        y_data = row['Stance']\n",
    "        stance_map = {\n",
    "            \"agree\": 0,\n",
    "            \"disagree\": 1,\n",
    "            \"discuss\": 2,\n",
    "            \"unrelated\": 3\n",
    "        }\n",
    "        y_data = torch.tensor(stance_map[y_data])\n",
    "        return {'x_data': x_data,\n",
    "                'y_target': y_data}"
   ]
  },
  {
   "cell_type": "code",
   "execution_count": 136,
   "id": "f20ec28e",
   "metadata": {},
   "outputs": [],
   "source": [
    "def load_dataset(excel=True):\n",
    "    \"\"\"\n",
    "    applies dataset class to dataset located at DATAPATH\n",
    "    args:\n",
    "        excel (bool): default true for .xlsx, else set false\n",
    "    \"\"\"\n",
    "    print('loading dataset...')\n",
    "    if excel == True:\n",
    "        df = pd.read_excel(\n",
    "            DATAPATH, \n",
    "            index_col=None, \n",
    "            header=0   \n",
    "        )\n",
    "    else:\n",
    "        df = pd.read_csv(\n",
    "            DATAPATH, \n",
    "            index_col=None,\n",
    "            header=0   \n",
    "        )\n",
    "    print('loaded!')\n",
    "    \n",
    "    dataset = StanceDataset(df, val_split=False)\n",
    "    return dataset"
   ]
  },
  {
   "cell_type": "code",
   "execution_count": 137,
   "id": "5dc61afe",
   "metadata": {},
   "outputs": [
    {
     "name": "stdout",
     "output_type": "stream",
     "text": [
      "loading dataset...\n",
      "loaded!\n"
     ]
    }
   ],
   "source": [
    "data = load_dataset(excel=False)"
   ]
  },
  {
   "cell_type": "code",
   "execution_count": 138,
   "id": "d2ca07ac",
   "metadata": {},
   "outputs": [
    {
     "name": "stdout",
     "output_type": "stream",
     "text": [
      "should be the lenght of train split:  25360\n",
      "tensor([[-0.3264, -0.0474, -0.3089,  ..., -0.2004,  0.2527, -0.2000]])\n",
      "tensor(3)\n",
      "12000\n"
     ]
    }
   ],
   "source": [
    "\"\"\"\n",
    "Test block for getitem. This is what the training loop will call\n",
    "\"\"\"\n",
    "\n",
    "data.set_split('train')\n",
    "print(\"should be the lenght of train split: \", len(data._target_df))\n",
    "\n",
    "d = data.__getitem__(1)\n",
    "print(d['x_data'])\n",
    "print(d['y_target'])\n",
    "print(len((d['x_data'])[0]))"
   ]
  },
  {
   "cell_type": "markdown",
   "id": "7a9a6ba5",
   "metadata": {},
   "source": [
    "### Weighted Sampler"
   ]
  },
  {
   "cell_type": "code",
   "execution_count": 139,
   "id": "4f13f6df",
   "metadata": {},
   "outputs": [
    {
     "name": "stdout",
     "output_type": "stream",
     "text": [
      "{'unrelated': 14669, 'discuss': 7114, 'agree': 2924, 'disagree': 653}\n"
     ]
    },
    {
     "data": {
      "image/png": "[encoded data removed]",
      "text/plain": [
       "<Figure size 432x288 with 1 Axes>"
      ]
     },
     "metadata": {
      "needs_background": "light"
     },
     "output_type": "display_data"
    }
   ],
   "source": [
    "# distribution of labels (class distribution)\n",
    "def dist_of(df):\n",
    "    class_distribution = (pd.value_counts(df['Stance'])).to_dict()\n",
    "    print(class_distribution)\n",
    "    sns.barplot(data = pd.DataFrame.from_dict([class_distribution]).melt(), x = \"variable\", y=\"value\", hue=\"variable\").set_title(f'train class distribution size {len(df)}')\n",
    "\n",
    "dist_of(data._target_df)"
   ]
  },
  {
   "cell_type": "code",
   "execution_count": 140,
   "id": "bbd41702",
   "metadata": {},
   "outputs": [
    {
     "name": "stdout",
     "output_type": "stream",
     "text": [
      "{'unrelated': 14669, 'discuss': 7114, 'agree': 2924, 'disagree': 653}\n",
      "tensor([3.4200e-04, 1.5314e-03, 1.4057e-04, 6.8171e-05])\n"
     ]
    }
   ],
   "source": [
    "def sample(d):\n",
    "    class_count = dict(pd.value_counts(d['Stance']))\n",
    "    print(class_count)\n",
    "    stance_map = {\n",
    "        \"agree\": 0,\n",
    "        \"disagree\": 1,\n",
    "        \"discuss\": 2,\n",
    "        \"unrelated\": 3\n",
    "    }\n",
    "    # fit the class count to sequence agree, disagree, discuss, unrelated\n",
    "    cc = [0, 0, 0, 0]\n",
    "    for key in class_count:\n",
    "        cc[stance_map[key]] = class_count[key]\n",
    "\n",
    "    weight = 1./torch.tensor(cc, dtype=torch.float).to(device)\n",
    "    print(weight)\n",
    "    \n",
    "    # create array with weight for each data point\n",
    "    target_list = [stance_map[(d.iloc[i]['Stance'])] for i in range(len(d))]\n",
    "    samples_weight = torch.tensor([weight[t] for t in target_list]).to(device)\n",
    "\n",
    "    weighted_sampler = WeightedRandomSampler(\n",
    "        weights=samples_weight,\n",
    "        num_samples=len(samples_weight),\n",
    "        replacement=True\n",
    "    )\n",
    "    return weighted_sampler, weight\n",
    "\n",
    "train_sampler, train_weights = sample(data._target_df)"
   ]
  },
  {
   "cell_type": "markdown",
   "id": "12cdee13",
   "metadata": {},
   "source": [
    "### Step 3 - Define model & training"
   ]
  },
  {
   "cell_type": "code",
   "execution_count": 141,
   "id": "7f858166",
   "metadata": {},
   "outputs": [],
   "source": [
    "# hyperparameters\n",
    "in_dim = 12000\n",
    "hidden_dim = 120\n",
    "out_dim = 4\n",
    "epochs = 30 # 45\n",
    "batch = 32\n",
    "lr = 0.001"
   ]
  },
  {
   "cell_type": "code",
   "execution_count": 142,
   "id": "9e5b9b2c",
   "metadata": {},
   "outputs": [],
   "source": [
    "# re-usable way to create dataloader\n",
    "def make_batches(dataset, batch_size, shuffle=True, drop_last=True, sampler=None):\n",
    "    dataloader = DataLoader(dataset=dataset, batch_size=batch_size,\n",
    "                            shuffle=shuffle, drop_last=drop_last, sampler=sampler)\n",
    "    for data_dict in dataloader:\n",
    "        out_data_dict = {}\n",
    "        for name, tensor in data_dict.items():\n",
    "            out_data_dict[name] = data_dict[name].to(device)\n",
    "        yield out_data_dict\n"
   ]
  },
  {
   "cell_type": "code",
   "execution_count": 143,
   "id": "9e61f3e7",
   "metadata": {},
   "outputs": [],
   "source": [
    "# define neural net\n",
    "class NN(nn.Module):\n",
    "    def __init__(self, in_dim, hidden_dim, out_dim):\n",
    "        super(NN, self).__init__()\n",
    "\n",
    "        # define layers\n",
    "        self.l1 = nn.Linear(in_dim, hidden_dim)\n",
    "        self.relu = nn.ReLU()\n",
    "        self.l2 = nn.Linear(hidden_dim, out_dim)\n",
    "    \n",
    "    # applies layers with sample x\n",
    "    def forward(self, x):\n",
    "        out = self.l1(x).squeeze()\n",
    "        out = self.relu(out)\n",
    "        out = self.l2(out)\n",
    "        return out\n",
    "\n",
    "model = NN(in_dim, hidden_dim, out_dim).to(device)\n",
    "\n",
    "criterion = nn.CrossEntropyLoss(weight=train_weights)\n",
    "optimizer = torch.optim.Adam(model.parameters(), lr=lr)"
   ]
  },
  {
   "cell_type": "code",
   "execution_count": 144,
   "id": "d2a28a1e",
   "metadata": {},
   "outputs": [
    {
     "name": "stdout",
     "output_type": "stream",
     "text": [
      "Epoch 1 batch 1 loss: 0.001409625768661499\n",
      "Epoch 1 batch 101 loss: 0.05786837814748287\n",
      "Epoch 1 batch 201 loss: 0.041535370126366614\n",
      "Epoch 1 batch 301 loss: 0.03347835573554039\n",
      "Epoch 1 batch 401 loss: 0.029320901677012443\n",
      "Epoch 1 batch 501 loss: 0.02471588784456253\n",
      "Epoch 1 batch 601 loss: 0.021759502314031124\n",
      "Epoch 1 batch 701 loss: 0.019405873280018568\n",
      "Epoch 2 batch 1 loss: 0.00018100549280643464\n",
      "Epoch 2 batch 101 loss: 0.015615786446258426\n",
      "Epoch 2 batch 201 loss: 0.014142424799501896\n",
      "Epoch 2 batch 301 loss: 0.0129294752497226\n",
      "Epoch 2 batch 401 loss: 0.01362232043594122\n",
      "Epoch 2 batch 501 loss: 0.011401698114350439\n",
      "Epoch 2 batch 601 loss: 0.010481084557250142\n",
      "Epoch 2 batch 701 loss: 0.010047006700187922\n",
      "Epoch 3 batch 1 loss: 2.255670726299286e-05\n",
      "Epoch 3 batch 101 loss: 0.007959770509507507\n",
      "Epoch 3 batch 201 loss: 0.00783276885561645\n",
      "Epoch 3 batch 301 loss: 0.008422155209816993\n",
      "Epoch 3 batch 401 loss: 0.007357230896130204\n",
      "Epoch 3 batch 501 loss: 0.008149660000577569\n",
      "Epoch 3 batch 601 loss: 0.006501079916022718\n",
      "Epoch 3 batch 701 loss: 0.0061679418440908195\n",
      "Epoch 4 batch 1 loss: 0.00013060452044010162\n",
      "Epoch 4 batch 101 loss: 0.004550353339407593\n",
      "Epoch 4 batch 201 loss: 0.005007979076355696\n",
      "Epoch 4 batch 301 loss: 0.004391685507260263\n",
      "Epoch 4 batch 401 loss: 0.005187456398736685\n",
      "Epoch 4 batch 501 loss: 0.0065457664211280644\n",
      "Epoch 4 batch 601 loss: 0.003924816471524537\n",
      "Epoch 4 batch 701 loss: 0.0035434731864370404\n",
      "Epoch 5 batch 1 loss: 1.922697201371193e-05\n",
      "Epoch 5 batch 101 loss: 0.00405067748320289\n",
      "Epoch 5 batch 201 loss: 0.005774024681188166\n",
      "Epoch 5 batch 301 loss: 0.004000581415137276\n",
      "Epoch 5 batch 401 loss: 0.0037738227158552037\n",
      "Epoch 5 batch 501 loss: 0.003555856240331195\n",
      "Epoch 5 batch 601 loss: 0.003134526351117529\n",
      "Epoch 5 batch 701 loss: 0.002189303595107049\n",
      "Epoch 6 batch 1 loss: 3.868952626362443e-06\n",
      "Epoch 6 batch 101 loss: 0.0033354903869330884\n",
      "Epoch 6 batch 201 loss: 0.0018743324738461525\n",
      "Epoch 6 batch 301 loss: 0.0030949573996476827\n",
      "Epoch 6 batch 401 loss: 0.0056270952307386326\n",
      "Epoch 6 batch 501 loss: 0.0048469032299472015\n",
      "Epoch 6 batch 601 loss: 0.004857662603142672\n",
      "Epoch 6 batch 701 loss: 0.0042394142597913746\n",
      "Epoch 7 batch 1 loss: 4.945915658026933e-06\n",
      "Epoch 7 batch 101 loss: 0.0032729188069934028\n",
      "Epoch 7 batch 201 loss: 0.0028228309928090313\n",
      "Epoch 7 batch 301 loss: 0.0018617752847494558\n",
      "Epoch 7 batch 401 loss: 0.001851851541083306\n",
      "Epoch 7 batch 501 loss: 0.0012871433381224052\n",
      "Epoch 7 batch 601 loss: 0.0012390130942803808\n",
      "Epoch 7 batch 701 loss: 0.0019066242867265828\n",
      "Epoch 8 batch 1 loss: 4.5205090194940565e-05\n",
      "Epoch 8 batch 101 loss: 0.002252008725947235\n",
      "Epoch 8 batch 201 loss: 0.002640361903293524\n",
      "Epoch 8 batch 301 loss: 0.0038525572802172972\n",
      "Epoch 8 batch 401 loss: 0.0027387891362013763\n",
      "Epoch 8 batch 501 loss: 0.005132357897236943\n",
      "Epoch 8 batch 601 loss: 0.006868492012785282\n",
      "Epoch 8 batch 701 loss: 0.005460605560569092\n",
      "Epoch 9 batch 1 loss: 1.2976405210793018e-05\n",
      "Epoch 9 batch 101 loss: 0.0045222164046135735\n",
      "Epoch 9 batch 201 loss: 0.0037204656841931865\n",
      "Epoch 9 batch 301 loss: 0.003236976375512313\n",
      "Epoch 9 batch 401 loss: 0.0034487804191885517\n",
      "Epoch 9 batch 501 loss: 0.0016049891239090356\n",
      "Epoch 9 batch 601 loss: 0.0020999249889864587\n",
      "Epoch 9 batch 701 loss: 0.002871400874108076\n",
      "Epoch 10 batch 1 loss: 4.175870679318905e-06\n",
      "Epoch 10 batch 101 loss: 0.001007203847519122\n",
      "Epoch 10 batch 201 loss: 0.0016603185331914574\n",
      "Epoch 10 batch 301 loss: 0.003450491743366001\n",
      "Epoch 10 batch 401 loss: 0.0020354953249916434\n",
      "Epoch 10 batch 501 loss: 0.0020037715567741542\n",
      "Epoch 10 batch 601 loss: 0.005142583180917427\n",
      "Epoch 10 batch 701 loss: 0.004583570572081953\n",
      "Epoch 11 batch 1 loss: 5.633177701383829e-06\n",
      "Epoch 11 batch 101 loss: 0.003355288683611434\n",
      "Epoch 11 batch 201 loss: 0.0008634903924539685\n",
      "Epoch 11 batch 301 loss: 0.0011769482078962028\n",
      "Epoch 11 batch 401 loss: 0.0009145242811937351\n",
      "Epoch 11 batch 501 loss: 0.0010202743902918883\n",
      "Epoch 11 batch 601 loss: 0.000741125473898137\n",
      "Epoch 11 batch 701 loss: 0.0011712023506406694\n",
      "Epoch 12 batch 1 loss: 1.4599737478420138e-06\n",
      "Epoch 12 batch 101 loss: 0.001435376869631\n",
      "Epoch 12 batch 201 loss: 0.0016933162096393062\n",
      "Epoch 12 batch 301 loss: 0.0022148487316735552\n",
      "Epoch 12 batch 401 loss: 0.0013232327163568698\n",
      "Epoch 12 batch 501 loss: 0.0014630959525529761\n",
      "Epoch 12 batch 601 loss: 0.0023287730443116742\n",
      "Epoch 12 batch 701 loss: 0.0016621141898212955\n",
      "Epoch 13 batch 1 loss: 1.977674663066864e-05\n",
      "Epoch 13 batch 101 loss: 0.0010859006147657055\n",
      "Epoch 13 batch 201 loss: 0.0013149254314485006\n",
      "Epoch 13 batch 301 loss: 0.00433975300178281\n",
      "Epoch 13 batch 401 loss: 0.0030951507132849655\n",
      "Epoch 13 batch 501 loss: 0.00246825975907268\n",
      "Epoch 13 batch 601 loss: 0.0015278364481346215\n",
      "Epoch 13 batch 701 loss: 0.003718539407622302\n",
      "Epoch 14 batch 1 loss: 9.068884537555278e-07\n",
      "Epoch 14 batch 101 loss: 0.0031062249434762636\n",
      "Epoch 14 batch 201 loss: 0.005027573892730289\n",
      "Epoch 14 batch 301 loss: 0.0033394251000136137\n",
      "Epoch 14 batch 401 loss: 0.0035140661676705347\n",
      "Epoch 14 batch 501 loss: 0.0030846178348874673\n",
      "Epoch 14 batch 601 loss: 0.0021075653180014343\n",
      "Epoch 14 batch 701 loss: 0.0024298536719288676\n",
      "Epoch 15 batch 1 loss: 7.117702160030603e-06\n",
      "Epoch 15 batch 101 loss: 0.00110449327340757\n",
      "Epoch 15 batch 201 loss: 0.0010642262817564187\n",
      "Epoch 15 batch 301 loss: 0.0017220004543487448\n",
      "Epoch 15 batch 401 loss: 0.0008467127248586621\n",
      "Epoch 15 batch 501 loss: 0.0012974980347498785\n",
      "Epoch 15 batch 601 loss: 0.0017813957640173612\n",
      "Epoch 15 batch 701 loss: 0.0017147098091663793\n",
      "Epoch 16 batch 1 loss: 3.49445384927094e-07\n",
      "Epoch 16 batch 101 loss: 0.0006101943981775548\n",
      "Epoch 16 batch 201 loss: 0.0010597174004942644\n",
      "Epoch 16 batch 301 loss: 0.0008653684472519672\n",
      "Epoch 16 batch 401 loss: 0.0013248714859364554\n",
      "Epoch 16 batch 501 loss: 0.0009321056743647204\n",
      "Epoch 16 batch 601 loss: 0.0032598089090024587\n",
      "Epoch 16 batch 701 loss: 0.003556198225254775\n",
      "Epoch 17 batch 1 loss: 0.00039188170433044435\n",
      "Epoch 17 batch 101 loss: 0.0019267977471463381\n",
      "Epoch 17 batch 201 loss: 0.0014311046688089846\n",
      "Epoch 17 batch 301 loss: 0.000782662107681972\n",
      "Epoch 17 batch 401 loss: 0.0008678158665425144\n",
      "Epoch 17 batch 501 loss: 0.0018815956181060757\n",
      "Epoch 17 batch 601 loss: 0.0017735939580452395\n",
      "Epoch 17 batch 701 loss: 0.0016536471248036833\n",
      "Epoch 18 batch 1 loss: 9.97473020106554e-07\n",
      "Epoch 18 batch 101 loss: 0.002489978644967778\n",
      "Epoch 18 batch 201 loss: 0.001907015832941397\n",
      "Epoch 18 batch 301 loss: 0.002011261903513514\n",
      "Epoch 18 batch 401 loss: 0.0012079807642294328\n",
      "Epoch 18 batch 501 loss: 0.0013784115628222935\n",
      "Epoch 18 batch 601 loss: 0.003250029752132832\n",
      "Epoch 18 batch 701 loss: 0.0013725054175083642\n",
      "Epoch 19 batch 1 loss: 5.739342886954546e-07\n",
      "Epoch 19 batch 101 loss: 0.0025255698835026123\n",
      "Epoch 19 batch 201 loss: 0.0015178368005872472\n",
      "Epoch 19 batch 301 loss: 0.0006579686498444061\n",
      "Epoch 19 batch 401 loss: 0.003141804662460345\n",
      "Epoch 19 batch 501 loss: 0.0018504976605181582\n",
      "Epoch 19 batch 601 loss: 0.0021970488441438647\n",
      "Epoch 19 batch 701 loss: 0.0011443123636490783\n",
      "Epoch 20 batch 1 loss: 5.917270318605006e-07\n",
      "Epoch 20 batch 101 loss: 0.0003972327560768463\n",
      "Epoch 20 batch 201 loss: 0.0014351858787849778\n",
      "Epoch 20 batch 301 loss: 0.0018937894459777453\n",
      "Epoch 20 batch 401 loss: 0.0006977993657928892\n",
      "Epoch 20 batch 501 loss: 0.0006184546140648308\n",
      "Epoch 20 batch 601 loss: 0.0006293034158734371\n",
      "Epoch 20 batch 701 loss: 0.0006704791517913691\n",
      "Epoch 21 batch 1 loss: 1.7825209069997071e-06\n",
      "Epoch 21 batch 101 loss: 0.0001742368907252967\n",
      "Epoch 21 batch 201 loss: 0.0003447739574839943\n",
      "Epoch 21 batch 301 loss: 0.0007902391958414228\n",
      "Epoch 21 batch 401 loss: 0.0018310275055773673\n",
      "Epoch 21 batch 501 loss: 0.0017205634730235032\n",
      "Epoch 21 batch 601 loss: 0.0004882260093909281\n",
      "Epoch 21 batch 701 loss: 0.001114186701728613\n",
      "Epoch 22 batch 1 loss: 7.337704882957041e-07\n",
      "Epoch 22 batch 101 loss: 0.00042211616331769617\n",
      "Epoch 22 batch 201 loss: 0.0004621531251868873\n",
      "Epoch 22 batch 301 loss: 0.0014277691770803358\n",
      "Epoch 22 batch 401 loss: 0.0007556607041406095\n",
      "Epoch 22 batch 501 loss: 0.0031884142127237285\n",
      "Epoch 22 batch 601 loss: 0.0017238103369309101\n",
      "Epoch 22 batch 701 loss: 0.0018058387022429087\n",
      "Epoch 23 batch 1 loss: 9.00301500223577e-07\n",
      "Epoch 23 batch 101 loss: 0.003786774879161385\n",
      "Epoch 23 batch 201 loss: 0.002102128215730772\n",
      "Epoch 23 batch 301 loss: 0.0016293013976464864\n",
      "Epoch 23 batch 401 loss: 0.004644428110244916\n",
      "Epoch 23 batch 501 loss: 0.0008815070782511611\n",
      "Epoch 23 batch 601 loss: 0.002783167261197377\n",
      "Epoch 23 batch 701 loss: 0.002134254601507564\n",
      "Epoch 24 batch 1 loss: 6.899254862219095e-06\n",
      "Epoch 24 batch 101 loss: 0.0013042743421610794\n",
      "Epoch 24 batch 201 loss: 0.0009392609782480577\n",
      "Epoch 24 batch 301 loss: 0.000829736750718439\n",
      "Epoch 24 batch 401 loss: 0.00031996370902925267\n",
      "Epoch 24 batch 501 loss: 0.0006687441719841445\n",
      "Epoch 24 batch 601 loss: 0.000877687025211344\n",
      "Epoch 24 batch 701 loss: 0.00028642296613725195\n",
      "Epoch 25 batch 1 loss: 3.1242406112141905e-07\n",
      "Epoch 25 batch 101 loss: 0.0029381859065506434\n",
      "Epoch 25 batch 201 loss: 0.00039955497429036767\n",
      "Epoch 25 batch 301 loss: 0.002283401989578124\n",
      "Epoch 25 batch 401 loss: 0.0019751056660534234\n",
      "Epoch 25 batch 501 loss: 0.0013388138651207555\n",
      "Epoch 25 batch 601 loss: 0.0030185185225309395\n",
      "Epoch 25 batch 701 loss: 0.0010278164403171104\n",
      "Epoch 26 batch 1 loss: 1.8763035768643022e-07\n",
      "Epoch 26 batch 101 loss: 0.0004492775840626564\n",
      "Epoch 26 batch 201 loss: 0.000352964194942615\n",
      "Epoch 26 batch 301 loss: 0.000696997471342911\n",
      "Epoch 26 batch 401 loss: 0.0006179428488467238\n",
      "Epoch 26 batch 501 loss: 0.0007551053356910415\n",
      "Epoch 26 batch 601 loss: 0.00037860948761226607\n",
      "Epoch 26 batch 701 loss: 0.0009893046694232908\n",
      "Epoch 27 batch 1 loss: 1.3616817886941136e-07\n",
      "Epoch 27 batch 101 loss: 0.0002531547798989777\n",
      "Epoch 27 batch 201 loss: 0.0019846749838470716\n",
      "Epoch 27 batch 301 loss: 0.0011396882322987948\n",
      "Epoch 27 batch 401 loss: 0.00033965639149391793\n",
      "Epoch 27 batch 501 loss: 0.0004981385155188036\n",
      "Epoch 27 batch 601 loss: 0.0009976406014138774\n",
      "Epoch 27 batch 701 loss: 0.0011629022151100799\n",
      "Epoch 28 batch 1 loss: 9.383750148117542e-08\n",
      "Epoch 28 batch 101 loss: 0.0018294352107768646\n",
      "Epoch 28 batch 201 loss: 0.0007003375303247595\n",
      "Epoch 28 batch 301 loss: 0.0001917829163139686\n",
      "Epoch 28 batch 401 loss: 0.0010487412066722754\n",
      "Epoch 28 batch 501 loss: 0.00525751164117537\n",
      "Epoch 28 batch 601 loss: 0.002008949103859777\n",
      "Epoch 28 batch 701 loss: 0.0023130206590503805\n",
      "Epoch 29 batch 1 loss: 1.1344654485583306e-06\n",
      "Epoch 29 batch 101 loss: 0.0014138726440651227\n",
      "Epoch 29 batch 201 loss: 0.0009345250233600381\n",
      "Epoch 29 batch 301 loss: 0.00018610341410385444\n",
      "Epoch 29 batch 401 loss: 0.0001528380114941683\n",
      "Epoch 29 batch 501 loss: 0.0004235771966195898\n",
      "Epoch 29 batch 601 loss: 0.00036992361520242413\n",
      "Epoch 29 batch 701 loss: 0.0003211405468682642\n",
      "Epoch 30 batch 1 loss: 4.6479253796860575e-07\n",
      "Epoch 30 batch 101 loss: 0.00011197776154949679\n",
      "Epoch 30 batch 201 loss: 0.00022015189821468083\n",
      "Epoch 30 batch 301 loss: 0.0023061416506097885\n",
      "Epoch 30 batch 401 loss: 0.0017533901241349667\n",
      "Epoch 30 batch 501 loss: 0.0017425568343351187\n",
      "Epoch 30 batch 601 loss: 0.004009879669742077\n",
      "Epoch 30 batch 701 loss: 0.0014848228616938285\n"
     ]
    }
   ],
   "source": [
    "\"\"\"\n",
    "training loop\n",
    "\"\"\"\n",
    "loss_vals=  {}\n",
    "loss_vals['train'] = []\n",
    "loss_vals['test'] = []\n",
    "\n",
    "\n",
    "for epoch in range(epochs):\n",
    "\n",
    "    # setup\n",
    "    data.set_split('train')\n",
    "    train_loader = make_batches(data, batch, shuffle=False, sampler=train_sampler)\n",
    "\n",
    "    running_loss = 0.\n",
    "    last_loss = 0.\n",
    "    epoch_loss = []\n",
    "\n",
    "    # enumerate to track the batch index and do some intra-epoch reporting\n",
    "    for i, sample in enumerate(train_loader):\n",
    "        # zero gradients each batch\n",
    "        optimizer.zero_grad()\n",
    "        \n",
    "        inputs = ((sample)['x_data']).float()\n",
    "        labels = sample['y_target']\n",
    "\n",
    "        # predict for batch\n",
    "        outputs = model(inputs)\n",
    "\n",
    "        # compute loss and gradients\n",
    "        loss = criterion(outputs, labels)\n",
    "        epoch_loss.append(loss.item())\n",
    "        loss.backward()\n",
    "\n",
    "        # adjust weights\n",
    "        optimizer.step()\n",
    "\n",
    "        # report\n",
    "        running_loss += loss.item()\n",
    "        if i % 100 == 0:\n",
    "            last_loss = running_loss / 1000 # loss per batch\n",
    "            print('Epoch {} batch {} loss: {}'.format(epoch + 1, i + 1, last_loss))\n",
    "            running_loss = 0.\n",
    "        \n",
    "    # append avg loss per epoch to loss vals\n",
    "    loss_vals['train'].append(sum(epoch_loss)/len(epoch_loss))"
   ]
  },
  {
   "cell_type": "code",
   "execution_count": 145,
   "id": "ebace269",
   "metadata": {},
   "outputs": [
    {
     "data": {
      "image/png": "[encoded data removed]",
      "text/plain": [
       "<Figure size 432x288 with 1 Axes>"
      ]
     },
     "metadata": {
      "needs_background": "light"
     },
     "output_type": "display_data"
    }
   ],
   "source": [
    "# plot loss once finished\n",
    "def my_plot(epochs, loss):\n",
    "    plt.plot(epochs, loss)\n",
    "    plt.title(f'train loss with batch size {batch}, lr {lr}')\n",
    "    plt.xlabel('epoch')\n",
    "    plt.ylabel('loss')\n",
    "# plot loss when finished\n",
    "my_plot(np.linspace(1, epochs, epochs).astype(int), loss_vals['train'])"
   ]
  },
  {
   "cell_type": "code",
   "execution_count": 146,
   "id": "be53fac1",
   "metadata": {},
   "outputs": [
    {
     "name": "stdout",
     "output_type": "stream",
     "text": [
      "accuracy = 93.93939393939394\n"
     ]
    }
   ],
   "source": [
    "# set test split\n",
    "data.set_split('test')\n",
    "test_loader = make_batches(data, batch)\n",
    "\n",
    "# accuracy\n",
    "with torch.no_grad():\n",
    "    n_correct = 0\n",
    "    n_samples = 0\n",
    "    y_pred = []\n",
    "    y_true = []\n",
    "    for i, sample in enumerate(test_loader):\n",
    "        \n",
    "        if batch == 1:\n",
    "            inputs = (sample['x_data'])[0].float()\n",
    "        else:\n",
    "            inputs = ((sample)['x_data']).float()\n",
    "        labels = sample['y_target']\n",
    "        \n",
    "        \n",
    "        # test the trained model\n",
    "        outputs = model(inputs)\n",
    "        \n",
    "        # value, index\n",
    "        _, predictions = torch.max(outputs, 1)\n",
    "        y_pred.extend(predictions.data.cpu().numpy())\n",
    "        y_true.extend(labels.data.cpu().numpy())\n",
    "\n",
    "        n_samples += labels.shape[0] # gives us n of samples of current batch\n",
    "        n_correct += (predictions == labels).sum().item()\n",
    "\n",
    "    \n",
    "    # accuracy in percent\n",
    "    acc = 100.0 * n_correct / n_samples\n",
    "    print(f'accuracy = {acc}')\n"
   ]
  },
  {
   "cell_type": "code",
   "execution_count": 147,
   "id": "a9511ac4",
   "metadata": {},
   "outputs": [
    {
     "name": "stdout",
     "output_type": "stream",
     "text": [
      "              precision    recall  f1-score   support\n",
      "\n",
      "           0       0.85      0.90      0.87       754\n",
      "           1       0.76      0.78      0.77       187\n",
      "           2       0.93      0.95      0.94      1793\n",
      "           3       0.97      0.95      0.96      3602\n",
      "\n",
      "    accuracy                           0.94      6336\n",
      "   macro avg       0.88      0.89      0.89      6336\n",
      "weighted avg       0.94      0.94      0.94      6336\n",
      "\n"
     ]
    }
   ],
   "source": [
    "from sklearn.metrics import classification_report\n",
    " \n",
    "print(classification_report(y_true, y_pred))"
   ]
  },
  {
   "cell_type": "code",
   "execution_count": 162,
   "id": "8f297497",
   "metadata": {},
   "outputs": [],
   "source": [
    "# save the model\n",
    "torch.save(model.state_dict(), \"./kowalsky_90_weighted_bigram.pth\")"
   ]
  },
  {
   "cell_type": "code",
   "execution_count": 148,
   "id": "8be40518",
   "metadata": {},
   "outputs": [
    {
     "name": "stdout",
     "output_type": "stream",
     "text": [
      "[[0.85175879 0.08376963 0.01911524 0.00710631]\n",
      " [0.0201005  0.76439791 0.0076461  0.00312678]\n",
      " [0.04145729 0.05235602 0.9273621  0.01478113]\n",
      " [0.08668342 0.09947644 0.04587657 0.97498579]]\n"
     ]
    },
    {
     "data": {
      "text/plain": [
       "<AxesSubplot:title={'center':'cf matrix of testadata size 6340, lr: 0.001, batches: 32, epochs: 30'}>"
      ]
     },
     "execution_count": 148,
     "metadata": {},
     "output_type": "execute_result"
    },
    {
     "data": {
      "image/png": "[encoded data removed]",
      "text/plain": [
       "<Figure size 864x504 with 2 Axes>"
      ]
     },
     "metadata": {
      "needs_background": "light"
     },
     "output_type": "display_data"
    }
   ],
   "source": [
    "# confusion matrix\n",
    "classes = ['agree', 'disagree', 'discuss', 'unrelated']\n",
    "\n",
    "# Build confusion matrix (normalized as precision)\n",
    "cf_matrix = confusion_matrix(y_true, y_pred, normalize='pred')\n",
    "# precision, is in a sense correctness, and recall is completeness.\n",
    "\n",
    "print(cf_matrix)\n",
    "df_cm = pd.DataFrame(cf_matrix, index = [i for i in classes],\n",
    "                     columns = [i for i in classes])\n",
    "plt.figure(figsize = (12,7))\n",
    "plt.title(f'cf matrix of testadata size {len(data._target_df)}, lr: {lr}, batches: {batch}, epochs: {epochs}')\n",
    "sns.heatmap(df_cm, annot=True)"
   ]
  },
  {
   "cell_type": "code",
   "execution_count": 179,
   "id": "14264802",
   "metadata": {},
   "outputs": [
    {
     "name": "stdout",
     "output_type": "stream",
     "text": [
      "Who Should Play Steve Jobs Now That Christian Bale Quit? \n",
      "---\n",
      "should agree with\n",
      "---\n",
      "Christian Bale will not be starring as Steve Jobs in Aaron Sorkin's upcoming Steve Jobs biopic, according to The Hollywood Reporter. The actor has reportedly decided that he was \"not right for the part,\" deciding to withdraw from the film.\n",
      "\n",
      "Bale was announced as the star of the film just last week, with Sorkin saying that Christian Bale was \"the best actor in a certain age range\" to play Jobs, and that he had agreed to the part without an audition.\n",
      "\n",
      "Set to be directed by Danny Boyle, who also directed the Oscar-winning hit Slumdog Millionaire, the upcoming Steve Jobs project focuses on three continuous 30-minute scenes that depict three of Apple's product launches.\n",
      "\n",
      "While it is now unclear who will play Steve Jobs in the movie, Seth Rogen is reportedly in talks to play Apple co-founder Steve Wozniak, and Jessica Chastain, from The Help, is also being considered for an unspecified role in the film. Leonardo DiCaprio was previously in talks to star as Steve Jobs, but also opted not to take on the role.\n"
     ]
    }
   ],
   "source": [
    "agree_row = (data.df).iloc[1]\n",
    "disagree_row = (data.df).iloc[4434]\n",
    "\n",
    "agree_head = agree_row['head']\n",
    "agree_body = agree_row['body']\n",
    "\n",
    "disagree_head = disagree_row['head']\n",
    "disagree_body = disagree_row['body']\n",
    "\n",
    "print(f\"{agree_head} \\n---\\nshould agree with\\n---\\n{agree_body}\")"
   ]
  },
  {
   "cell_type": "code",
   "execution_count": 183,
   "id": "f3653c6c",
   "metadata": {},
   "outputs": [
    {
     "name": "stdout",
     "output_type": "stream",
     "text": [
      "NASA Confirms Earth Will Experience 6 Days of Total Darkness in December 2014! \n",
      "---\n",
      "should disagree with\n",
      "---\n",
      "It may feel like winter is slowly squeezing all the sunlight out of your day, but if you see any news stories claiming Earth is headed for \"Six Days of Total Darkness\" then don't start stocking up on the tins of beans and torches just yet.\n",
      "\n",
      "\"Satirical news site\" Huzlers.com has been spreading this fake story far and wide on the web this week, taking in numerous Facebook and Twitter users and encouraging them to post about what they're going to be up to during the six days of darkness.\n",
      "\n",
      "The story on the vaguely official looking website titled \"Nasa Confirms Earth Will Experience 6 Days of Total ...\n"
     ]
    }
   ],
   "source": [
    "print(f\"{disagree_head} \\n---\\nshould disagree with\\n---\\n{disagree_body[:600]} ...\")"
   ]
  },
  {
   "cell_type": "code",
   "execution_count": 184,
   "id": "fa9fc6d6",
   "metadata": {},
   "outputs": [
    {
     "name": "stdout",
     "output_type": "stream",
     "text": [
      "tensor(10.2128, grad_fn=<MaxBackward0>) tensor(0)\n",
      "agree\n"
     ]
    }
   ],
   "source": [
    "claim = to_vector(preprocess(agree_head))\n",
    "body = to_vector(preprocess(agree_body))\n",
    "        \n",
    "# 12k combined input vector\n",
    "x_data = torch.cat((claim, body), 1)\n",
    "\n",
    "# demo predict\n",
    "pred = model(x_data)\n",
    "pred_out, pred_idx = torch.max(pred, 0)\n",
    "\n",
    "print(pred_out, pred_idx)\n",
    "classes = ['agree', 'disagree', 'discuss', 'unrelated']\n",
    "stance = classes[(pred_idx.data).numpy()]\n",
    "\n",
    "print(stance)"
   ]
  }
 ],
 "metadata": {
  "kernelspec": {
   "display_name": "Python 3.10.6 64-bit",
   "language": "python",
   "name": "python3"
  },
  "language_info": {
   "codemirror_mode": {
    "name": "ipython",
    "version": 3
   },
   "file_extension": ".py",
   "mimetype": "text/x-python",
   "name": "python",
   "nbconvert_exporter": "python",
   "pygments_lexer": "ipython3",
   "version": "3.10.6"
  },
  "vscode": {
   "interpreter": {
    "hash": "916dbcbb3f70747c44a77c7bcd40155683ae19c65e1c03b4aa3499c5328201f1"
   }
  }
 },
 "nbformat": 4,
 "nbformat_minor": 5
}
