{
 "cells": [
  {
   "cell_type": "code",
   "execution_count": 1,
   "metadata": {},
   "outputs": [],
   "source": [
    "import pandas as pd"
   ]
  },
  {
   "cell_type": "code",
   "execution_count": 2,
   "metadata": {},
   "outputs": [
    {
     "name": "stdout",
     "output_type": "stream",
     "text": [
      "(49972, 4)\n"
     ]
    },
    {
     "data": {
      "text/html": [
       "<div>\n",
       "<style scoped>\n",
       "    .dataframe tbody tr th:only-of-type {\n",
       "        vertical-align: middle;\n",
       "    }\n",
       "\n",
       "    .dataframe tbody tr th {\n",
       "        vertical-align: top;\n",
       "    }\n",
       "\n",
       "    .dataframe thead th {\n",
       "        text-align: right;\n",
       "    }\n",
       "</style>\n",
       "<table border=\"1\" class=\"dataframe\">\n",
       "  <thead>\n",
       "    <tr style=\"text-align: right;\">\n",
       "      <th></th>\n",
       "      <th>head</th>\n",
       "      <th>Body ID</th>\n",
       "      <th>Stance</th>\n",
       "      <th>body</th>\n",
       "    </tr>\n",
       "  </thead>\n",
       "  <tbody>\n",
       "    <tr>\n",
       "      <th>0</th>\n",
       "      <td>Soldier shot, Parliament locked down after gun...</td>\n",
       "      <td>0</td>\n",
       "      <td>unrelated</td>\n",
       "      <td>A small meteorite crashed into a wooded area i...</td>\n",
       "    </tr>\n",
       "    <tr>\n",
       "      <th>1</th>\n",
       "      <td>Tourist dubbed ‘Spider Man’ after spider burro...</td>\n",
       "      <td>0</td>\n",
       "      <td>unrelated</td>\n",
       "      <td>A small meteorite crashed into a wooded area i...</td>\n",
       "    </tr>\n",
       "    <tr>\n",
       "      <th>2</th>\n",
       "      <td>Luke Somers 'killed in failed rescue attempt i...</td>\n",
       "      <td>0</td>\n",
       "      <td>unrelated</td>\n",
       "      <td>A small meteorite crashed into a wooded area i...</td>\n",
       "    </tr>\n",
       "    <tr>\n",
       "      <th>3</th>\n",
       "      <td>BREAKING: Soldier shot at War Memorial in Ottawa</td>\n",
       "      <td>0</td>\n",
       "      <td>unrelated</td>\n",
       "      <td>A small meteorite crashed into a wooded area i...</td>\n",
       "    </tr>\n",
       "    <tr>\n",
       "      <th>4</th>\n",
       "      <td>Giant 8ft 9in catfish weighing 19 stone caught...</td>\n",
       "      <td>0</td>\n",
       "      <td>unrelated</td>\n",
       "      <td>A small meteorite crashed into a wooded area i...</td>\n",
       "    </tr>\n",
       "  </tbody>\n",
       "</table>\n",
       "</div>"
      ],
      "text/plain": [
       "                                                head  Body ID     Stance  \\\n",
       "0  Soldier shot, Parliament locked down after gun...        0  unrelated   \n",
       "1  Tourist dubbed ‘Spider Man’ after spider burro...        0  unrelated   \n",
       "2  Luke Somers 'killed in failed rescue attempt i...        0  unrelated   \n",
       "3   BREAKING: Soldier shot at War Memorial in Ottawa        0  unrelated   \n",
       "4  Giant 8ft 9in catfish weighing 19 stone caught...        0  unrelated   \n",
       "\n",
       "                                                body  \n",
       "0  A small meteorite crashed into a wooded area i...  \n",
       "1  A small meteorite crashed into a wooded area i...  \n",
       "2  A small meteorite crashed into a wooded area i...  \n",
       "3  A small meteorite crashed into a wooded area i...  \n",
       "4  A small meteorite crashed into a wooded area i...  "
      ]
     },
     "execution_count": 2,
     "metadata": {},
     "output_type": "execute_result"
    }
   ],
   "source": [
    "df = pd.read_excel(\n",
    "    'Data/big_chungus.xlsx', \n",
    "    index_col=None, \n",
    "    header=0,\n",
    ")\n",
    "print(df.shape)\n",
    "df.head()"
   ]
  },
  {
   "cell_type": "code",
   "execution_count": 9,
   "metadata": {},
   "outputs": [
    {
     "name": "stdout",
     "output_type": "stream",
     "text": [
      "Small Meteorite Strikes in Nicaragua's Capital City of Managua \n",
      " ----- \n",
      " agree \n",
      " ----- \n",
      " A small meteorite crashed into a wooded area in Nicaragua's capital of Managua overnight, the government said Sunday. Residents reported hearing a mysterious boom that left a 16-foot deep crater near the city's airport, the Associated Press reports. \n",
      "\n",
      "Government spokeswoman Rosario Murillo said a committee formed by the government to study the event determined it was a \"relatively small\" meteorite that \"appears to have come off an asteroid that was passing close to Earth.\" House-sized asteroid 2014 RC, which measured 60 feet in diameter, skimmed the Earth this weekend, ABC News reports. \n",
      "Murillo said Nicaragua will ask international experts to help local scientists in understanding what happened.\n",
      "\n",
      "The crater left by the meteorite had a radius of 39 feet and a depth of 16 feet,  said Humberto Saballos, a volcanologist with the Nicaraguan Institute of Territorial Studies who was on the committee. He said it is still not clear if the meteorite disintegrated or was buried.\n",
      "\n",
      "Humberto Garcia, of the Astronomy Center at the National Autonomous University of Nicaragua, said the meteorite could be related to an asteroid that was forecast to pass by the planet Saturday night.\n",
      "\n",
      "\"We have to study it more because it could be ice or rock,\" he said.\n",
      "\n",
      "Wilfried Strauch, an adviser to the Institute of Territorial Studies, said it was \"very strange that no one reported a streak of light. We have to ask if anyone has a photo or something.\"\n",
      "\n",
      "Local residents reported hearing a loud boom Saturday night, but said they didn't see anything strange in the sky.\n",
      "\n",
      "\"I was sitting on my porch and I saw nothing, then all of a sudden I heard a large blast. We thought it was a bomb because we felt an expansive wave,\" Jorge Santamaria told The Associated Press.\n",
      "\n",
      "The site of the crater is near Managua's international airport and an air force base. Only journalists from state media were allowed to visit it.\n"
     ]
    }
   ],
   "source": [
    "# lets look at one article in detail\n",
    "row = df[df['Stance'] == 'agree'].iloc[0]\n",
    "print(f\"{row['head']} \\n ----- \\n {row['Stance']} \\n ----- \\n {row['body']}\")"
   ]
  },
  {
   "cell_type": "code",
   "execution_count": 10,
   "metadata": {},
   "outputs": [
    {
     "name": "stdout",
     "output_type": "stream",
     "text": [
      "{'agree': 3678, 'disagree': 840, 'discuss': 8909, 'unrelated': 36545}\n"
     ]
    }
   ],
   "source": [
    "# now we look at the distribution of labels\n",
    "# takes in the coloumn of labels, returns the distribution\n",
    "def label_disto(targets):\n",
    "    count_dict = {\n",
    "        \"agree\": 0,\n",
    "        \"disagree\": 0,\n",
    "        \"discuss\": 0,\n",
    "        \"unrelated\": 0\n",
    "    }\n",
    "    # super clean way of counting targets (bisschen eigenlob muss sein)\n",
    "    for i in targets:\n",
    "        count_dict[i] += 1\n",
    "            \n",
    "    return count_dict\n",
    "\n",
    "ld = label_disto(df['Stance'])\n",
    "print(ld)"
   ]
  }
 ],
 "metadata": {
  "interpreter": {
   "hash": "f17c676b12c14782c06c04004144efea31e641eee12305210fddc7cd25bf6ccc"
  },
  "kernelspec": {
   "display_name": "Python 3.9.7 ('base')",
   "language": "python",
   "name": "python3"
  },
  "language_info": {
   "codemirror_mode": {
    "name": "ipython",
    "version": 3
   },
   "file_extension": ".py",
   "mimetype": "text/x-python",
   "name": "python",
   "nbconvert_exporter": "python",
   "pygments_lexer": "ipython3",
   "version": "3.9.7"
  },
  "orig_nbformat": 4
 },
 "nbformat": 4,
 "nbformat_minor": 2
}
