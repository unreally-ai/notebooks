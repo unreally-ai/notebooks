{
 "cells": [
  {
   "cell_type": "code",
   "execution_count": 1,
   "metadata": {},
   "outputs": [],
   "source": [
    "import pandas as pd\n",
    "import matplotlib.pyplot as plt\n",
    "import seaborn as sns\n",
    "import numpy as np\n",
    "\n",
    "import torch"
   ]
  },
  {
   "cell_type": "code",
   "execution_count": 2,
   "metadata": {},
   "outputs": [
    {
     "name": "stdout",
     "output_type": "stream",
     "text": [
      "(49972, 4)\n"
     ]
    },
    {
     "data": {
      "text/html": [
       "<div>\n",
       "<style scoped>\n",
       "    .dataframe tbody tr th:only-of-type {\n",
       "        vertical-align: middle;\n",
       "    }\n",
       "\n",
       "    .dataframe tbody tr th {\n",
       "        vertical-align: top;\n",
       "    }\n",
       "\n",
       "    .dataframe thead th {\n",
       "        text-align: right;\n",
       "    }\n",
       "</style>\n",
       "<table border=\"1\" class=\"dataframe\">\n",
       "  <thead>\n",
       "    <tr style=\"text-align: right;\">\n",
       "      <th></th>\n",
       "      <th>head</th>\n",
       "      <th>Body ID</th>\n",
       "      <th>Stance</th>\n",
       "      <th>body</th>\n",
       "    </tr>\n",
       "  </thead>\n",
       "  <tbody>\n",
       "    <tr>\n",
       "      <th>0</th>\n",
       "      <td>Soldier shot, Parliament locked down after gun...</td>\n",
       "      <td>0</td>\n",
       "      <td>unrelated</td>\n",
       "      <td>A small meteorite crashed into a wooded area i...</td>\n",
       "    </tr>\n",
       "    <tr>\n",
       "      <th>1</th>\n",
       "      <td>Tourist dubbed ‘Spider Man’ after spider burro...</td>\n",
       "      <td>0</td>\n",
       "      <td>unrelated</td>\n",
       "      <td>A small meteorite crashed into a wooded area i...</td>\n",
       "    </tr>\n",
       "    <tr>\n",
       "      <th>2</th>\n",
       "      <td>Luke Somers 'killed in failed rescue attempt i...</td>\n",
       "      <td>0</td>\n",
       "      <td>unrelated</td>\n",
       "      <td>A small meteorite crashed into a wooded area i...</td>\n",
       "    </tr>\n",
       "    <tr>\n",
       "      <th>3</th>\n",
       "      <td>BREAKING: Soldier shot at War Memorial in Ottawa</td>\n",
       "      <td>0</td>\n",
       "      <td>unrelated</td>\n",
       "      <td>A small meteorite crashed into a wooded area i...</td>\n",
       "    </tr>\n",
       "    <tr>\n",
       "      <th>4</th>\n",
       "      <td>Giant 8ft 9in catfish weighing 19 stone caught...</td>\n",
       "      <td>0</td>\n",
       "      <td>unrelated</td>\n",
       "      <td>A small meteorite crashed into a wooded area i...</td>\n",
       "    </tr>\n",
       "  </tbody>\n",
       "</table>\n",
       "</div>"
      ],
      "text/plain": [
       "                                                head  Body ID     Stance  \\\n",
       "0  Soldier shot, Parliament locked down after gun...        0  unrelated   \n",
       "1  Tourist dubbed ‘Spider Man’ after spider burro...        0  unrelated   \n",
       "2  Luke Somers 'killed in failed rescue attempt i...        0  unrelated   \n",
       "3   BREAKING: Soldier shot at War Memorial in Ottawa        0  unrelated   \n",
       "4  Giant 8ft 9in catfish weighing 19 stone caught...        0  unrelated   \n",
       "\n",
       "                                                body  \n",
       "0  A small meteorite crashed into a wooded area i...  \n",
       "1  A small meteorite crashed into a wooded area i...  \n",
       "2  A small meteorite crashed into a wooded area i...  \n",
       "3  A small meteorite crashed into a wooded area i...  \n",
       "4  A small meteorite crashed into a wooded area i...  "
      ]
     },
     "execution_count": 2,
     "metadata": {},
     "output_type": "execute_result"
    }
   ],
   "source": [
    "df = pd.read_excel(\n",
    "    'Data/big_chungus.xlsx', \n",
    "    index_col=None, \n",
    "    header=0,\n",
    ")\n",
    "print(df.shape)\n",
    "df.head()"
   ]
  },
  {
   "cell_type": "code",
   "execution_count": 3,
   "metadata": {},
   "outputs": [
    {
     "name": "stdout",
     "output_type": "stream",
     "text": [
      "Small Meteorite Strikes in Nicaragua's Capital City of Managua \n",
      " ----- \n",
      " agree \n",
      " ----- \n",
      " A small meteorite crashed into a wooded area in Nicaragua's capital of Managua overnight, the government said Sunday. Residents reported hearing a mysterious boom that left a 16-foot deep crater near the city's airport, the Associated Press reports. \n",
      "\n",
      "Government spokeswoman Rosario Murillo said a committee formed by the government to study the event determined it was a \"relatively small\" meteorite that \"appears to have come off an asteroid that was passing close to Earth.\" House-sized asteroid 2014 RC, which measured 60 feet in diameter, skimmed the Earth this weekend, ABC News reports. \n",
      "Murillo said Nicaragua will ask international experts to help local scientists in understanding what happened.\n",
      "\n",
      "The crater left by the meteorite had a radius of 39 feet and a depth of 16 feet,  said Humberto Saballos, a volcanologist with the Nicaraguan Institute of Territorial Studies who was on the committee. He said it is still not clear if the meteorite disintegrated or was buried.\n",
      "\n",
      "Humberto Garcia, of the Astronomy Center at the National Autonomous University of Nicaragua, said the meteorite could be related to an asteroid that was forecast to pass by the planet Saturday night.\n",
      "\n",
      "\"We have to study it more because it could be ice or rock,\" he said.\n",
      "\n",
      "Wilfried Strauch, an adviser to the Institute of Territorial Studies, said it was \"very strange that no one reported a streak of light. We have to ask if anyone has a photo or something.\"\n",
      "\n",
      "Local residents reported hearing a loud boom Saturday night, but said they didn't see anything strange in the sky.\n",
      "\n",
      "\"I was sitting on my porch and I saw nothing, then all of a sudden I heard a large blast. We thought it was a bomb because we felt an expansive wave,\" Jorge Santamaria told The Associated Press.\n",
      "\n",
      "The site of the crater is near Managua's international airport and an air force base. Only journalists from state media were allowed to visit it.\n"
     ]
    }
   ],
   "source": [
    "# lets look at one article in detail\n",
    "row = df[df['Stance'] == 'agree'].iloc[0]\n",
    "print(f\"{row['head']} \\n ----- \\n {row['Stance']} \\n ----- \\n {row['body']}\")"
   ]
  },
  {
   "cell_type": "code",
   "execution_count": 4,
   "metadata": {},
   "outputs": [
    {
     "name": "stdout",
     "output_type": "stream",
     "text": [
      "{'unrelated': 36545, 'discuss': 8909, 'agree': 3678, 'disagree': 840}\n"
     ]
    },
    {
     "data": {
      "text/plain": [
       "Text(0.5, 1.0, 'class distribution')"
      ]
     },
     "execution_count": 4,
     "metadata": {},
     "output_type": "execute_result"
    },
    {
     "data": {
      "image/png": "[encoded data removed]",
      "text/plain": [
       "<Figure size 432x288 with 1 Axes>"
      ]
     },
     "metadata": {
      "needs_background": "light"
     },
     "output_type": "display_data"
    }
   ],
   "source": [
    "# distribution of labels\n",
    "class_distribution = (pd.value_counts(df['Stance'])).to_dict() #TODO swap out with  train\n",
    "print(class_distribution)\n",
    "sns.barplot(data = pd.DataFrame.from_dict([class_distribution]).melt(), x = \"variable\", y=\"value\", hue=\"variable\").set_title('class distribution')"
   ]
  },
  {
   "cell_type": "code",
   "execution_count": 16,
   "metadata": {},
   "outputs": [
    {
     "name": "stdout",
     "output_type": "stream",
     "text": [
      "3360\n"
     ]
    },
    {
     "data": {
      "text/plain": [
       "Text(0.5, 1.0, 'class distribution')"
      ]
     },
     "execution_count": 16,
     "metadata": {},
     "output_type": "execute_result"
    },
    {
     "data": {
      "image/png": "[encoded data removed]",
      "text/plain": [
       "<Figure size 432x288 with 1 Axes>"
      ]
     },
     "metadata": {
      "needs_background": "light"
     },
     "output_type": "display_data"
    }
   ],
   "source": [
    "# class_count = [i for i in class_distribution.values()] #TODO swap out with  train \n",
    "# class_weights = 1./torch.tensor(class_count , dtype=torch.float)\n",
    "\n",
    "# print(class_weights)\n",
    "d = df.groupby('Stance')\n",
    "d = pd.DataFrame(d.apply(lambda x: x.sample(d.size().min()).reset_index(drop=True)))\n",
    "print(len(d))\n",
    "\n",
    "# distribution of labels\n",
    "class_distribution = (pd.value_counts(d['Stance'])).to_dict()\n",
    "sns.barplot(data = pd.DataFrame.from_dict([class_distribution]).melt(), x = \"variable\", y=\"value\", hue=\"variable\").set_title('class distribution')\n"
   ]
  },
  {
   "cell_type": "code",
   "execution_count": 18,
   "metadata": {},
   "outputs": [
    {
     "name": "stdout",
     "output_type": "stream",
     "text": [
      "Boko Haram claims to have German hostage, denies ceasefire \n",
      " ----- \n",
      " agree \n",
      " ----- \n",
      " MAIDUGURI, Nigeria — The leader of Nigeria’s Islamic extremist group Boko Haram has denied agreeing to any cease-fire with the government and said more than 200 kidnapped schoolgirls all have converted to Islam and been married off.\n",
      "\n",
      "In a new video released late Friday night, Abubakar Shekau dashed hopes for a prisoner exchange to get the girls released.\n",
      "\n",
      "“The issue of the girls is long forgotten because I have long ago married them off,” he said, laughing.\n",
      "\n",
      "“In this war, there is no going back,” he said in the video received by The Associated Press in the same way as previous messages.\n",
      "\n",
      "Nigeria’s chief of defense staff, Air Chief Marshal Alex Badeh, on Oct. 17 announced that Boko Haram had agreed to an immediate cease-fire to end a 5-year-old insurgency that has killed thousands of people and driven hundreds of thousands from their homes in northeast Nigeria.\n",
      "\n",
      "But attacks and abductions have continued with the extremists this week seizing Mubi, a town of more than 200,000 people. Fighting also continued Friday in Vimtin, the nearby village where Badeh was born.\n",
      "\n",
      "Shekau in August announced that Boko Haram wanted to establish an Islamic caliphate, along the lines of the IS group in Syria and Iraq. Fleeing residents have reported that hundreds of people are being detained for infractions of the extremists’ version of strict Shariah law in several towns and villages under their control.\n",
      "\n",
      "Boko Haram’s kidnapping of 276 schoolgirls taking exams at a boarding school in the remote northeastern town of Chibok in April prompted an international campaign for their release and criticism of Nigeria’s government for not acting quickly to free them. Dozens of the girls escaped on their own in the first couple of days, but 219 remain missing.\n",
      "\n",
      "Unconfirmed reports have indicated that the girls have been broken up into several groups and that some may have been carried across borders into Cameroon and Chad.\n",
      "\n",
      "The government had said it had negotiated with two Boko Haram leaders in Chad, with talks hosted by President Idriss Deby, and that it was confident the girls would be freed soon. But Boko Haram has many factions.\n",
      "\n",
      "Shekau’s announcement further discredits the government of President Goodluck Jonathan, who on Thursday formally announced his candidacy for elections on Feb. 14, 2015 in Africa’s most populous nation. Nigeria, with some 160 million people, is divided almost equally between Muslims who dominate the north and Christians in the south. The West African nation is the biggest oil producer on the continent and has its biggest economy.\n",
      "\n",
      "Jonathan’s failure to curtail the insurgency and many corruption scandals are not expected to dim his chances of success. The election, though, is expected to be the most hotly contested since his People’s Democratic Party took power after decades of military dictatorship ended in 1994.\n",
      "\n",
      "Dozens of ruling party legislators have defected to the coalition All Progressives Congress, losing the PDP its majority in the lower house of Parliament. But the coalition is weakened by its inability to choose a presidential candidate, and primaries in December will be contested by three powerful northerners who all are Muslim.\n",
      "\n",
      "Jonathan, a Christian from a minority southern tribe, has been criticized for ignoring an unwritten party rule to alternate power between Christian and Muslim leaders, adding a religious and ethnic dimension to the election.\n"
     ]
    }
   ],
   "source": [
    "# lets look at one article in detail\n",
    "row = d[d['Stance'] == 'agree'].iloc[0]\n",
    "print(f\"{row['head']} \\n ----- \\n {row['Stance']} \\n ----- \\n {row['body']}\")"
   ]
  },
  {
   "cell_type": "code",
   "execution_count": 19,
   "metadata": {},
   "outputs": [],
   "source": [
    "d.to_csv('balanced3360.csv')"
   ]
  }
 ],
 "metadata": {
  "interpreter": {
   "hash": "f17c676b12c14782c06c04004144efea31e641eee12305210fddc7cd25bf6ccc"
  },
  "kernelspec": {
   "display_name": "Python 3.9.7 ('base')",
   "language": "python",
   "name": "python3"
  },
  "language_info": {
   "codemirror_mode": {
    "name": "ipython",
    "version": 3
   },
   "file_extension": ".py",
   "mimetype": "text/x-python",
   "name": "python",
   "nbconvert_exporter": "python",
   "pygments_lexer": "ipython3",
   "version": "3.9.7"
  },
  "orig_nbformat": 4
 },
 "nbformat": 4,
 "nbformat_minor": 2
}
