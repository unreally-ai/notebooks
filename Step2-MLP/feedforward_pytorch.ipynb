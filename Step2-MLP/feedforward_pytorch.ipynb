{
 "cells": [
  {
   "cell_type": "markdown",
   "id": "147486c7",
   "metadata": {},
   "source": [
    "# Feed Forward NN with Pytorch\n",
    "Trying things out on the MNIST dataset:\n",
    "[copy pasta source](https://www.youtube.com/watch?app=desktop&v=oPhxf2fXHkQ)"
   ]
  },
  {
   "cell_type": "code",
   "execution_count": 46,
   "id": "965b152c",
   "metadata": {},
   "outputs": [],
   "source": [
    "import torch\n",
    "import torch.nn as nn\n",
    "import matplotlib.pyplot as plt\n",
    "import pandas as pd"
   ]
  },
  {
   "cell_type": "code",
   "execution_count": 47,
   "id": "f3027865",
   "metadata": {},
   "outputs": [],
   "source": [
    "# only for MINST\n",
    "import torchvision\n",
    "import torchvision.transforms as transforms"
   ]
  },
  {
   "cell_type": "markdown",
   "id": "0d87deef",
   "metadata": {},
   "source": [
    "### 0 Config and Parameters"
   ]
  },
  {
   "cell_type": "code",
   "execution_count": 48,
   "id": "f7bcf1ba",
   "metadata": {},
   "outputs": [],
   "source": [
    "# config\n",
    "device = torch.device('cuda' if torch.cuda.is_available else 'cpu')"
   ]
  },
  {
   "cell_type": "code",
   "execution_count": 49,
   "id": "1f39f239",
   "metadata": {},
   "outputs": [],
   "source": [
    "# hyperparameters\n",
    "in_dim = 784 #1001\n",
    "hidden_dim = 100\n",
    "out_dim = 10 #4\n",
    "epochs = 10 #90\n",
    "batch = 500\n",
    "lr = 0.01"
   ]
  },
  {
   "cell_type": "markdown",
   "id": "6df4db15",
   "metadata": {},
   "source": [
    "### 1 Dataloader"
   ]
  },
  {
   "cell_type": "code",
   "execution_count": 50,
   "id": "1511c4c5",
   "metadata": {},
   "outputs": [],
   "source": [
    "train_data = torchvision.datasets.MNIST(root=\"./data\", train=True,\n",
    "                                       transform=transforms.ToTensor(), \n",
    "                                       download = True)"
   ]
  },
  {
   "cell_type": "code",
   "execution_count": 51,
   "id": "9e9603a9",
   "metadata": {},
   "outputs": [],
   "source": [
    "test_data = torchvision.datasets.MNIST(root=\"./data\", train=False,\n",
    "                                       transform=transforms.ToTensor())"
   ]
  },
  {
   "cell_type": "code",
   "execution_count": 52,
   "id": "2995f546",
   "metadata": {},
   "outputs": [],
   "source": [
    "train_loader = torch.utils.data.DataLoader(\n",
    "    dataset=train_data,\n",
    "    batch_size = batch,\n",
    "    shuffle=True)\n",
    "\n",
    "test_loader = torch.utils.data.DataLoader(\n",
    "    dataset=test_data,\n",
    "    batch_size = batch,\n",
    "    shuffle=False)"
   ]
  },
  {
   "cell_type": "code",
   "execution_count": 53,
   "id": "5c76e909",
   "metadata": {},
   "outputs": [
    {
     "name": "stdout",
     "output_type": "stream",
     "text": [
      "torch.Size([500, 1, 28, 28]) torch.Size([500])\n"
     ]
    }
   ],
   "source": [
    "# print the size of one batch and the labels\n",
    "example = iter(train_loader)\n",
    "samples, labels = example.next()\n",
    "print(samples.shape, labels.shape)"
   ]
  },
  {
   "cell_type": "markdown",
   "id": "f4780e9c",
   "metadata": {},
   "source": [
    "`torch.Size([500, 1, 28, 28]) torch.Size([500])` means\n",
    "500 samples in one batch\n",
    "1 channel (1 colour)\n",
    "28x28 image array\n",
    "label tensor of size 500 (one for each sample in our batch)"
   ]
  },
  {
   "cell_type": "code",
   "execution_count": 54,
   "id": "3ddd4270",
   "metadata": {},
   "outputs": [
    {
     "data": {
      "image/png": "[encoded data removed]",
      "text/plain": [
       "<Figure size 432x288 with 6 Axes>"
      ]
     },
     "metadata": {
      "needs_background": "light"
     },
     "output_type": "display_data"
    }
   ],
   "source": [
    "# plot samples\n",
    "for i in range (6):\n",
    "    plt.subplot(2, 3, i+1)\n",
    "    # [0] means first channel (we only have one)\n",
    "    plt.imshow(samples[i][0], cmap='gray')\n",
    "plt.show()"
   ]
  },
  {
   "cell_type": "markdown",
   "id": "0fdf646b",
   "metadata": {},
   "source": [
    "### 2 MLP Layers and Activation"
   ]
  },
  {
   "cell_type": "code",
   "execution_count": 55,
   "id": "1ae9c535",
   "metadata": {},
   "outputs": [],
   "source": [
    "# TODO: learn how python init, self etc works\n",
    "class NN(nn.Module):\n",
    "    def __init__(self, in_dim, hidden_dim, out_dim):\n",
    "        super(NN, self).__init__()\n",
    "        # define layers\n",
    "        self.l1 = nn.Linear(in_dim, hidden_dim)\n",
    "        self.relu = nn.ReLU()\n",
    "        self.l2 = nn.Linear(hidden_dim, out_dim)\n",
    "    \n",
    "    # applies layers with sample x\n",
    "    def forward(self, x):\n",
    "        out = self.l1(x)\n",
    "        out = self.relu(out)\n",
    "        out = self.l2(out)\n",
    "        return out\n",
    "\n",
    "model = NN(in_dim, hidden_dim, out_dim)"
   ]
  },
  {
   "cell_type": "markdown",
   "id": "ab5ace97",
   "metadata": {},
   "source": [
    "### 3 Loss and Optimizer"
   ]
  },
  {
   "cell_type": "code",
   "execution_count": 56,
   "id": "19667352",
   "metadata": {},
   "outputs": [],
   "source": [
    "criterion = nn.CrossEntropyLoss() # this also applies softmax for us\n",
    "optimizer = torch.optim.Adam(model.parameters(), lr=lr)"
   ]
  },
  {
   "cell_type": "markdown",
   "id": "c5edbad6",
   "metadata": {},
   "source": [
    "### 4 Training Loop and Batch Size"
   ]
  },
  {
   "cell_type": "code",
   "execution_count": 57,
   "id": "6b13d364",
   "metadata": {},
   "outputs": [
    {
     "name": "stdout",
     "output_type": "stream",
     "text": [
      "epoch 1 / 10, step 100/120, loss = 0.2043\n",
      "epoch 2 / 10, step 100/120, loss = 0.1547\n",
      "epoch 3 / 10, step 100/120, loss = 0.06715\n",
      "epoch 4 / 10, step 100/120, loss = 0.06827\n",
      "epoch 5 / 10, step 100/120, loss = 0.03179\n",
      "epoch 6 / 10, step 100/120, loss = 0.03781\n",
      "epoch 7 / 10, step 100/120, loss = 0.02319\n",
      "epoch 8 / 10, step 100/120, loss = 0.05539\n",
      "epoch 9 / 10, step 100/120, loss = 0.05791\n",
      "epoch 10 / 10, step 100/120, loss = 0.02549\n"
     ]
    }
   ],
   "source": [
    "# one step for each batch\n",
    "n_steps = len(train_loader)\n",
    "\n",
    "for epoch in range(epochs):\n",
    "    # loop over & unpack batches\n",
    "    for i, (images, labels) in enumerate(train_loader):\n",
    "        # reshape image tensor (MNIST specific) to 100, 784\n",
    "        # INFO: use to(device) if a GPU is available\n",
    "        images = images.reshape(-1, 28*28) #.to(device)\n",
    "        #labels = labels.to(device)\n",
    "        \n",
    "        # forward pass\n",
    "        outputs = model(images)\n",
    "        loss = criterion(outputs, labels)\n",
    "        \n",
    "        # backward pass\n",
    "        optimizer.zero_grad()\n",
    "        loss.backward()\n",
    "        optimizer.step()\n",
    "        # print loss every 100th step\n",
    "        if (i+1) % 100 == 0:\n",
    "            print(f\"epoch {epoch+1} / {epochs}, step {i+1}/{n_steps}, loss = {loss.item():.4}\")"
   ]
  },
  {
   "cell_type": "markdown",
   "id": "d89b7bf2",
   "metadata": {},
   "source": [
    "### 5 Evaluation"
   ]
  },
  {
   "cell_type": "code",
   "execution_count": 60,
   "id": "4592ddbc",
   "metadata": {},
   "outputs": [
    {
     "name": "stdout",
     "output_type": "stream",
     "text": [
      "accuracy = 97.37\n"
     ]
    }
   ],
   "source": [
    "with torch.no_grad():\n",
    "    n_correct = 0\n",
    "    n_samples = 0\n",
    "    for images, labels in test_loader:\n",
    "        # add to(device) for GPU support\n",
    "        images = images.reshape(-1, 28*28)\n",
    "        # test the trained model\n",
    "        outputs = model(images)\n",
    "        \n",
    "        # value, index\n",
    "        _, predictions = torch.max(outputs, 1)\n",
    "        n_samples += labels.shape[0] # gives us n of samples of current batch\n",
    "        n_correct += (predictions == labels).sum().item()\n",
    "    \n",
    "    # accuracy in percent\n",
    "    acc = 100.0 * n_correct / n_samples\n",
    "    print(f'accuracy = {acc}')\n",
    "        "
   ]
  },
  {
   "cell_type": "markdown",
   "id": "9b9b4743",
   "metadata": {},
   "source": [
    "`accuracy = 97.37` seems good! This is how building an MLP with pytorch works. "
   ]
  }
 ],
 "metadata": {
  "kernelspec": {
   "display_name": "Python 3 (ipykernel)",
   "language": "python",
   "name": "python3"
  },
  "language_info": {
   "codemirror_mode": {
    "name": "ipython",
    "version": 3
   },
   "file_extension": ".py",
   "mimetype": "text/x-python",
   "name": "python",
   "nbconvert_exporter": "python",
   "pygments_lexer": "ipython3",
   "version": "3.9.7"
  }
 },
 "nbformat": 4,
 "nbformat_minor": 5
}
