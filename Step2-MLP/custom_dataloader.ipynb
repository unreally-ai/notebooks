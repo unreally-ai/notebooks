{
 "cells": [
  {
   "cell_type": "markdown",
   "id": "1e6e45c1",
   "metadata": {},
   "source": [
    "# The Unreally Notebook\n",
    "### Step 1 - load data & helper functions\n"
   ]
  },
  {
   "cell_type": "code",
   "execution_count": 34,
   "id": "a32684fc",
   "metadata": {},
   "outputs": [],
   "source": [
    "import torch\n",
    "import torch.nn as nn\n",
    "from torch.utils.data import Dataset, DataLoader, WeightedRandomSampler\n",
    "\n",
    "import matplotlib.pyplot as plt\n",
    "import pandas as pd\n",
    "import numpy as np\n",
    "\n",
    "from sklearn.model_selection import train_test_split\n",
    "from sklearn.feature_extraction.text import TfidfVectorizer,CountVectorizer\n",
    "from sklearn.metrics.pairwise import cosine_similarity\n",
    "\n",
    "from collections import Counter\n",
    "import re\n",
    "\n",
    "from nltk.corpus import stopwords\n",
    "from nltk.stem import WordNetLemmatizer "
   ]
  },
  {
   "cell_type": "code",
   "execution_count": 2,
   "id": "1568dccf",
   "metadata": {},
   "outputs": [
    {
     "name": "stdout",
     "output_type": "stream",
     "text": [
      "(3231, 4)\n"
     ]
    },
    {
     "data": {
      "text/html": [
       "<div>\n",
       "<style scoped>\n",
       "    .dataframe tbody tr th:only-of-type {\n",
       "        vertical-align: middle;\n",
       "    }\n",
       "\n",
       "    .dataframe tbody tr th {\n",
       "        vertical-align: top;\n",
       "    }\n",
       "\n",
       "    .dataframe thead th {\n",
       "        text-align: right;\n",
       "    }\n",
       "</style>\n",
       "<table border=\"1\" class=\"dataframe\">\n",
       "  <thead>\n",
       "    <tr style=\"text-align: right;\">\n",
       "      <th></th>\n",
       "      <th>head</th>\n",
       "      <th>ID</th>\n",
       "      <th>stance</th>\n",
       "      <th>body</th>\n",
       "    </tr>\n",
       "  </thead>\n",
       "  <tbody>\n",
       "    <tr>\n",
       "      <th>0</th>\n",
       "      <td>Tourist dubbed ‘Spider Man’ after spider burro...</td>\n",
       "      <td>0</td>\n",
       "      <td>agree</td>\n",
       "      <td>A small meteorite crashed into a wooded area i...</td>\n",
       "    </tr>\n",
       "    <tr>\n",
       "      <th>1</th>\n",
       "      <td>Giant 8ft 9in catfish weighing 19 stone caught...</td>\n",
       "      <td>0</td>\n",
       "      <td>disagree</td>\n",
       "      <td>A small meteorite crashed into a wooded area i...</td>\n",
       "    </tr>\n",
       "    <tr>\n",
       "      <th>2</th>\n",
       "      <td>Enormous 20-stone catfish caught with fishing ...</td>\n",
       "      <td>0</td>\n",
       "      <td>agree</td>\n",
       "      <td>A small meteorite crashed into a wooded area i...</td>\n",
       "    </tr>\n",
       "    <tr>\n",
       "      <th>3</th>\n",
       "      <td>ISIS Militants Allegedly Contracted Ebola</td>\n",
       "      <td>5</td>\n",
       "      <td>agree</td>\n",
       "      <td>(NEWSER) – Wonder how long a Quarter Pounder w...</td>\n",
       "    </tr>\n",
       "    <tr>\n",
       "      <th>4</th>\n",
       "      <td>Matt Taibbi on leave of absence from First Loo...</td>\n",
       "      <td>5</td>\n",
       "      <td>disagree</td>\n",
       "      <td>(NEWSER) – Wonder how long a Quarter Pounder w...</td>\n",
       "    </tr>\n",
       "  </tbody>\n",
       "</table>\n",
       "</div>"
      ],
      "text/plain": [
       "                                                head  ID    stance  \\\n",
       "0  Tourist dubbed ‘Spider Man’ after spider burro...   0     agree   \n",
       "1  Giant 8ft 9in catfish weighing 19 stone caught...   0  disagree   \n",
       "2  Enormous 20-stone catfish caught with fishing ...   0     agree   \n",
       "3          ISIS Militants Allegedly Contracted Ebola   5     agree   \n",
       "4  Matt Taibbi on leave of absence from First Loo...   5  disagree   \n",
       "\n",
       "                                                body  \n",
       "0  A small meteorite crashed into a wooded area i...  \n",
       "1  A small meteorite crashed into a wooded area i...  \n",
       "2  A small meteorite crashed into a wooded area i...  \n",
       "3  (NEWSER) – Wonder how long a Quarter Pounder w...  \n",
       "4  (NEWSER) – Wonder how long a Quarter Pounder w...  "
      ]
     },
     "execution_count": 2,
     "metadata": {},
     "output_type": "execute_result"
    }
   ],
   "source": [
    "# quick look at the data before we start \n",
    "\n",
    "df = pd.read_excel(\n",
    "    'fake_bananas_structuredKopie_4.xlsx', \n",
    "    index_col=None, \n",
    "    header=0\n",
    ")\n",
    "print(df.shape)\n",
    "df.head()"
   ]
  },
  {
   "cell_type": "code",
   "execution_count": 3,
   "id": "a9e01cc6",
   "metadata": {},
   "outputs": [],
   "source": [
    "# takes in string & returns a cleaned string of all non-stop-words\n",
    "def preprocess(text, lemmatizer = WordNetLemmatizer()):\n",
    "    sw = set(stopwords.words('english'))\n",
    "    text = re.sub(r'[^\\w\\s]', '', text).lower()\n",
    "    s = \"\"\n",
    "    for word in text.split():\n",
    "        if word not in sw:\n",
    "                s += (lemmatizer.lemmatize(word) + \" \")\n",
    "    return s\n",
    "\n",
    "# creates a vocabulary without stop words\n",
    "# gets called in StanceDataset().__init__\n",
    "def create_vocab(df):\n",
    "    print(\"creating vocabulary...\")\n",
    "    vocab = []\n",
    "    for i in range(len(df)-1):\n",
    "            vocab.append(preprocess((df.iloc[i])['head']))\n",
    "            vocab.append(preprocess((df.iloc[i])['body']))\n",
    "    vocab_df = pd.DataFrame(vocab)\n",
    "    \n",
    "    counter = Counter(\" \".join(vocab_df[0]).split()).most_common(5000)\n",
    "    counter_df = pd.DataFrame(counter)\n",
    "    return counter_df\n"
   ]
  },
  {
   "cell_type": "code",
   "execution_count": 4,
   "id": "d0bef21e",
   "metadata": {},
   "outputs": [],
   "source": [
    "# test block to tinker with vectorizer, add to custom dataloader once finished\n",
    "def fit_vectorizers(dataset):\n",
    "    print('fitting vectorizer...')\n",
    "\n",
    "    # create array of all texts in dataset\n",
    "    data = [(dataset.iloc[i])['head'] for i in range(len(dataset))] # headlines\n",
    "    data += ((dataset.iloc[i])['body'] for i in range(len(dataset))) # bodies\n",
    "\n",
    "    vocab = create_vocab(dataset)[0]\n",
    "    \n",
    "    # fit to dataset (creates dictionary)\n",
    "    bow = CountVectorizer(\n",
    "        vocabulary=vocab,\n",
    "        max_features=5000,\n",
    "    )\n",
    "    tfidf = TfidfVectorizer(\n",
    "        vocabulary=vocab,\n",
    "        max_features=5000,\n",
    "    )\n",
    "    bow.fit(data)\n",
    "    tfidf.fit(data)\n",
    "    print('vectorizer ready!')\n",
    "    return bow, tfidf"
   ]
  },
  {
   "cell_type": "code",
   "execution_count": 5,
   "id": "cb88ddcc",
   "metadata": {},
   "outputs": [
    {
     "name": "stdout",
     "output_type": "stream",
     "text": [
      "fitting vectorizer...\n",
      "creating vocabulary...\n",
      "vectorizer ready!\n",
      "5000\n"
     ]
    },
    {
     "data": {
      "text/plain": [
       "(1, 5000)"
      ]
     },
     "execution_count": 5,
     "metadata": {},
     "output_type": "execute_result"
    }
   ],
   "source": [
    "\"\"\"\n",
    "Code block to test if the fit vectorizer sub-pipeline works. It calls:\n",
    "fit_vectorizer()\n",
    "    create_vocab()\n",
    "        preprocess()\n",
    "\"\"\"\n",
    "bow, tfidf = fit_vectorizers(df)\n",
    "test_input = ['super cool test input string']\n",
    "\n",
    "print(len(bow.vocabulary_))\n",
    "bow.transform(test_input).shape"
   ]
  },
  {
   "cell_type": "markdown",
   "id": "1117a79b",
   "metadata": {},
   "source": [
    "### Step 2 - define pytorch custom dataloader class"
   ]
  },
  {
   "cell_type": "code",
   "execution_count": 93,
   "id": "bc9e26e7",
   "metadata": {},
   "outputs": [],
   "source": [
    "# custom dataloader class\n",
    "class StanceDataset(Dataset):\n",
    "    def __init__(self, stance_df):\n",
    "        \"\"\"\n",
    "        Args:\n",
    "            stance_df (pandas.DataFrame): the dataset\n",
    "            vectorizer (TfidfVectorizer): sklearn vectorizer\n",
    "        \"\"\"\n",
    "        self.data = stance_df\n",
    "        \n",
    "        self._bow, self._tfidf = fit_vectorizers(stance_df)\n",
    "        \n",
    "        # splits (train, test, validation) #TODO: this is not how train split works in dataloader\n",
    "        self.train, self.test = train_test_split(self.data, test_size=0.3, shuffle=True)\n",
    "        self.test, self.val = train_test_split(self.test, test_size=0.5, shuffle=False)\n",
    "        # split sizes\n",
    "        self.train_len = len(self.train)\n",
    "        self.test_len = len(self.test)\n",
    "        self.val_len = len(self.val)\n",
    "        \n",
    "        self._lookup_dict = {'train': (self.train, self.train_len),\n",
    "                             'val': (self.val, self.val_len),\n",
    "                             'test': (self.test, self.test_len)}\n",
    "        self.set_split('train')\n",
    "\n",
    "    def __len__(self):\n",
    "        return len(self.data)\n",
    "\n",
    "    def set_split(self, split='train'):\n",
    "        \"\"\" selects the splits in the dataset using a column in the dataframe \n",
    "        \n",
    "        Args:\n",
    "            split (str): one of \"train\", \"val\", or \"test\"\n",
    "        \"\"\"\n",
    "        self._target_split = split\n",
    "        self._target_df, self._target_size = self._lookup_dict[split]\n",
    "\n",
    "    \n",
    "    def __getitem__(self, index):\n",
    "        \"\"\"\n",
    "        primary entry\n",
    "        Args:\n",
    "            index (int): index to current data point\n",
    "        Returns:\n",
    "            tensor data point feature (x_data) and label (y_target)\n",
    "        \"\"\"\n",
    "        \n",
    "        # get text values from current row\n",
    "        row = (self._target_df.iloc[index])\n",
    "        claim = [row['head']]\n",
    "        body = [row['body']]\n",
    "\n",
    "        \n",
    "        # transform claim (headline/tweet) and target (body) to bowTF vector\n",
    "        bow_x = self._bow.transform(claim)\n",
    "        bow_y = self._bow.transform(body)\n",
    "\n",
    "        # transform claim (headline/tweet) and target (body) to TFIDF vector\n",
    "        tfidf_x = self._tfidf.transform(claim)\n",
    "        tfidf_y = self._tfidf.transform(body)\n",
    "        \n",
    "        # take cosine similary of TFIDF vectors\n",
    "        cosim = cosine_similarity(tfidf_x, tfidf_y)\n",
    "        \n",
    "        # concat x+cosim+y to input vector\n",
    "        claim_df = pd.DataFrame(bow_x.toarray()) \n",
    "        body_df = pd.DataFrame(bow_y.toarray())\n",
    "        cosim_df = pd.DataFrame(cosim)\n",
    "        \n",
    "        # convert to tensor\n",
    "        x_data = (pd.concat([claim_df, cosim_df, body_df],axis=1)).to_numpy()\n",
    "        x_data = torch.from_numpy(x_data)\n",
    "\n",
    "        # get stance & convert to tensor\n",
    "        y_data = row['stance']\n",
    "        stance_map = {\n",
    "            \"agree\": 0,\n",
    "            \"disagree\": 1,\n",
    "            \"discuss\": 2,\n",
    "            \"unrelated\": 3\n",
    "        }\n",
    "        y_data = torch.tensor(stance_map[y_data]) # TODO: somehow add this to device (maybe when called) \n",
    "        return x_data, y_data"
   ]
  },
  {
   "cell_type": "code",
   "execution_count": 94,
   "id": "f20ec28e",
   "metadata": {},
   "outputs": [],
   "source": [
    "def load_dataset():\n",
    "    \"\"\"\n",
    "    load dataset and vectorizer\n",
    "    \"\"\"\n",
    "    print('loading dataset...')\n",
    "    df = pd.read_excel(\n",
    "        'fake_bananas_structuredKopie_4.xlsx', \n",
    "        index_col=None, \n",
    "        header=0\n",
    "    )\n",
    "    print('loaded!')\n",
    "    \n",
    "    dataset = StanceDataset(df)\n",
    "    return dataset\n",
    "    "
   ]
  },
  {
   "cell_type": "code",
   "execution_count": 95,
   "id": "5dc61afe",
   "metadata": {},
   "outputs": [
    {
     "name": "stdout",
     "output_type": "stream",
     "text": [
      "loading dataset...\n",
      "loaded!\n",
      "fitting vectorizer...\n",
      "creating vocabulary...\n",
      "vectorizer ready!\n"
     ]
    }
   ],
   "source": [
    "data = load_dataset()"
   ]
  },
  {
   "cell_type": "code",
   "execution_count": 98,
   "id": "d2ca07ac",
   "metadata": {},
   "outputs": [
    {
     "name": "stdout",
     "output_type": "stream",
     "text": [
      "should be the lenght of train split:  2261\n",
      "10001 tensor(3)\n"
     ]
    }
   ],
   "source": [
    "\"\"\"\n",
    "Test block for getitem. This is what the training loop will call each batch \n",
    "\"\"\"\n",
    "\n",
    "data.set_split('train')\n",
    "print(\"should be the lenght of train split: \", len(data._target_df))\n",
    "\n",
    "x, y = data.__getitem__(1)\n",
    "print(len(x[0]),y)"
   ]
  },
  {
   "cell_type": "markdown",
   "id": "1e9d7281",
   "metadata": {},
   "source": [
    "### Step 3 - Weighted Sampling\n",
    "Do we really need this? I think it's only important for unbalanced sets."
   ]
  },
  {
   "cell_type": "code",
   "execution_count": 69,
   "id": "4f13f6df",
   "metadata": {},
   "outputs": [],
   "source": [
    "# takes in the coloumn of labels, returns the distribution\n",
    "def label_disto(targets):\n",
    "    count_dict = {\n",
    "        \"agree\": 0,\n",
    "        \"disagree\": 0,\n",
    "        \"discuss\": 0,\n",
    "        \"unrelated\": 0\n",
    "    }\n",
    "    # super clean way of counting targets (bisschen eigenlob muss sein)\n",
    "    for i in targets:\n",
    "        count_dict[i] += 1\n",
    "            \n",
    "    return count_dict"
   ]
  },
  {
   "cell_type": "code",
   "execution_count": 70,
   "metadata": {},
   "outputs": [
    {
     "data": {
      "text/plain": [
       "Text(0.5, 1.0, 'Test Class Distribution')"
      ]
     },
     "execution_count": 70,
     "metadata": {},
     "output_type": "execute_result"
    },
    {
     "data": {
      "image/png": "[encoded data removed]",
      "text/plain": [
       "<Figure size 1440x360 with 2 Axes>"
      ]
     },
     "metadata": {
      "needs_background": "light"
     },
     "output_type": "display_data"
    }
   ],
   "source": [
    "import seaborn as sns\n",
    "\n",
    "\n",
    "fig, axes = plt.subplots(nrows=1, ncols=2, figsize=(20,5))\n",
    "sns.barplot(\n",
    "    data = pd.DataFrame.from_dict([label_disto(data.train['stance'])]).melt(), \n",
    "    x = \"variable\", \n",
    "    y=\"value\", \n",
    "    hue=\"variable\",  \n",
    "    ax=axes[0]).set_title('Train Class Distribution')\n",
    "\n",
    "sns.barplot(\n",
    "    data = pd.DataFrame.from_dict([label_disto(data.test['stance'])]).melt(), \n",
    "    x = \"variable\", \n",
    "    y=\"value\", \n",
    "    hue=\"variable\",  \n",
    "    ax=axes[1]).set_title('Test Class Distribution')\n"
   ]
  },
  {
   "cell_type": "code",
   "execution_count": 88,
   "metadata": {},
   "outputs": [
    {
     "data": {
      "text/plain": [
       "'lets skip the weighted sampler for now\\n'"
      ]
     },
     "execution_count": 88,
     "metadata": {},
     "output_type": "execute_result"
    }
   ],
   "source": [
    "# create big poppa tensor of all labels\n",
    "# target_list = []\n",
    "# for t in data._target_df['stance']:\n",
    "#     target_list.append(t)\n",
    "\n",
    "# target_list = torch.tensor(target_list)\n",
    "\n",
    "\"\"\"lets skip the weighted sampler for now\n",
    "\"\"\""
   ]
  },
  {
   "cell_type": "code",
   "execution_count": 89,
   "id": "ecf7cd46",
   "metadata": {},
   "outputs": [
    {
     "name": "stdout",
     "output_type": "stream",
     "text": [
      "tensor([0.0016, 0.0017, 0.0020, 0.0018])\n"
     ]
    }
   ],
   "source": [
    "class_count = [i for i in label_disto(data._target_df['stance']).values()]\n",
    "class_weights = 1./torch.tensor(class_count, dtype=torch.float)\n",
    "\n",
    "print(class_weights)\n",
    "\n",
    "#class_weights_all = class_weights[target_list]"
   ]
  },
  {
   "cell_type": "markdown",
   "id": "12cdee13",
   "metadata": {},
   "source": [
    "### Step 3 - Define model & training"
   ]
  },
  {
   "cell_type": "code",
   "execution_count": 107,
   "id": "7f858166",
   "metadata": {},
   "outputs": [],
   "source": [
    "# config\n",
    "device = torch.device('cuda' if torch.cuda.is_available else 'cpu')\n",
    "\n",
    "# hyperparameters\n",
    "in_dim = 10001\n",
    "hidden_dim = 100\n",
    "out_dim = 4\n",
    "epochs = 7 #90\n",
    "batch = 10\n",
    "lr = 0.01"
   ]
  },
  {
   "cell_type": "code",
   "execution_count": 108,
   "id": "9e61f3e7",
   "metadata": {},
   "outputs": [],
   "source": [
    "# define neural net\n",
    "class NN(nn.Module):\n",
    "    def __init__(self, in_dim, hidden_dim, out_dim):\n",
    "        super(NN, self).__init__()\n",
    "        # define layers\n",
    "        self.l1 = nn.Linear(in_dim, hidden_dim)\n",
    "        self.relu = nn.ReLU()\n",
    "        self.l2 = nn.Linear(hidden_dim, out_dim)\n",
    "    \n",
    "    # applies layers with sample x\n",
    "    def forward(self, x):\n",
    "        out = self.l1(x)\n",
    "        out = self.relu(out)\n",
    "        out = self.l2(out)\n",
    "        return out\n",
    "\n",
    "model = NN(in_dim, hidden_dim, out_dim).to(device)\n",
    "\n",
    "criterion = nn.CrossEntropyLoss() # this also applies softmax for us\n",
    "optimizer = torch.optim.Adam(model.parameters(), lr=lr)"
   ]
  },
  {
   "cell_type": "code",
   "execution_count": 109,
   "id": "c8b1421e",
   "metadata": {},
   "outputs": [],
   "source": [
    "train_loader = DataLoader(dataset=data, batch_size=1, shuffle=True, num_workers=1)"
   ]
  },
  {
   "cell_type": "code",
   "execution_count": 120,
   "id": "39635847",
   "metadata": {},
   "outputs": [
    {
     "name": "stdout",
     "output_type": "stream",
     "text": [
      "tensor([[[[0., 0., 0.,  ..., 0., 0., 0.]]]], dtype=torch.float64)\n"
     ]
    }
   ],
   "source": [
    "\"\"\"\n",
    "Test block to check if enumerate works correctly \n",
    "(data should return 2 values: input, label)\n",
    "\"\"\"\n",
    "for i, data in enumerate(train_loader):\n",
    "    if i > 0:\n",
    "        break\n",
    "    print(data)\n",
    "         "
   ]
  },
  {
   "cell_type": "code",
   "execution_count": 114,
   "id": "d2a28a1e",
   "metadata": {},
   "outputs": [
    {
     "ename": "ValueError",
     "evalue": "not enough values to unpack (expected 2, got 1)",
     "output_type": "error",
     "traceback": [
      "\u001b[0;31m---------------------------------------------------------------------------\u001b[0m",
      "\u001b[0;31mValueError\u001b[0m                                Traceback (most recent call last)",
      "\u001b[0;32m/tmp/ipykernel_63682/3710650003.py\u001b[0m in \u001b[0;36m<module>\u001b[0;34m\u001b[0m\n\u001b[1;32m      9\u001b[0m     \u001b[0;31m# enumerate to track the batch index and do some intra-epoch reporting\u001b[0m\u001b[0;34m\u001b[0m\u001b[0;34m\u001b[0m\u001b[0m\n\u001b[1;32m     10\u001b[0m     \u001b[0;32mfor\u001b[0m \u001b[0mi\u001b[0m\u001b[0;34m,\u001b[0m \u001b[0mdata\u001b[0m \u001b[0;32min\u001b[0m \u001b[0menumerate\u001b[0m\u001b[0;34m(\u001b[0m\u001b[0mtrain_loader\u001b[0m\u001b[0;34m)\u001b[0m\u001b[0;34m:\u001b[0m\u001b[0;34m\u001b[0m\u001b[0;34m\u001b[0m\u001b[0m\n\u001b[0;32m---> 11\u001b[0;31m         \u001b[0minputs\u001b[0m\u001b[0;34m,\u001b[0m \u001b[0mlabels\u001b[0m \u001b[0;34m=\u001b[0m \u001b[0mdata\u001b[0m\u001b[0;34m\u001b[0m\u001b[0;34m\u001b[0m\u001b[0m\n\u001b[0m\u001b[1;32m     12\u001b[0m \u001b[0;34m\u001b[0m\u001b[0m\n\u001b[1;32m     13\u001b[0m         \u001b[0;31m# zero gradients each batch\u001b[0m\u001b[0;34m\u001b[0m\u001b[0;34m\u001b[0m\u001b[0m\n",
      "\u001b[0;31mValueError\u001b[0m: not enough values to unpack (expected 2, got 1)"
     ]
    }
   ],
   "source": [
    "\"\"\"\n",
    "training loop\n",
    "\"\"\"\n",
    "\n",
    "running_loss = 0.\n",
    "last_loss = 0.\n",
    "\n",
    "for epoch in range(epochs):\n",
    "    # enumerate to track the batch index and do some intra-epoch reporting\n",
    "    for i, data in enumerate(train_loader):\n",
    "        inputs, labels = data\n",
    "\n",
    "        # zero gradients each batch\n",
    "        optimizer.zero_grad()\n",
    "\n",
    "        # predict for batch\n",
    "        outputs = model(inputs)\n",
    "\n",
    "        # compute loss and gradients\n",
    "        loss = criterion(outputs, labels)\n",
    "        loss.backward()\n",
    "\n",
    "        # adjust weights\n",
    "        optimizer.step()\n",
    "\n",
    "        # Gather data and report\n",
    "        running_loss += loss.item()\n",
    "        if i % 1000 == 999:\n",
    "            last_loss = running_loss / 1000 # loss per batch\n",
    "            print('  batch {} loss: {}'.format(i + 1, last_loss))\n",
    "            running_loss = 0.\n"
   ]
  }
 ],
 "metadata": {
  "interpreter": {
   "hash": "f17c676b12c14782c06c04004144efea31e641eee12305210fddc7cd25bf6ccc"
  },
  "kernelspec": {
   "display_name": "Python 3.9.7 ('base')",
   "language": "python",
   "name": "python3"
  },
  "language_info": {
   "codemirror_mode": {
    "name": "ipython",
    "version": 3
   },
   "file_extension": ".py",
   "mimetype": "text/x-python",
   "name": "python",
   "nbconvert_exporter": "python",
   "pygments_lexer": "ipython3",
   "version": "3.9.7"
  }
 },
 "nbformat": 4,
 "nbformat_minor": 5
}
